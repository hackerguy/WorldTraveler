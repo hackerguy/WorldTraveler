{
    "metadata": {
        "language_info": {
            "name": "python", 
            "mimetype": "text/x-python", 
            "nbconvert_exporter": "python", 
            "pygments_lexer": "ipython3", 
            "codemirror_mode": {
                "name": "ipython", 
                "version": 3
            }, 
            "file_extension": ".py", 
            "version": "3.5.2"
        }, 
        "kernelspec": {
            "display_name": "Python 3.5 (Experimental) with Spark 2.0", 
            "name": "python3-spark20", 
            "language": "python"
        }
    }, 
    "nbformat": 4, 
    "cells": [
        {
            "metadata": {}, 
            "source": "# Describe the business problem\n\nTravel agency business analyst (who) finds a decrease in revenue and determines that this is from a drop in repeat  business (what) and identifies the most profitable customers to target to book again. The marketing department wants to achieve more profitable results  by matching the right package for travel to each customer.\n\n# A set of business constraints have to be respected:\n\nWe have a limited budget to run a marketing campaign\nWe want to determine which is the best way to contact the customers.\nWe need to identify which customers to contact\n", 
            "cell_type": "markdown"
        }, 
        {
            "metadata": {}, 
            "source": "Prepare the data\nUse decision optimization\n\n    Step 1: Download the library\n    Step 2: Set up the engines\n    Step 3: Set up the prescriptive model\n        Define the decision variables\n        Set up the constraints\n        Express the objective\n        Solve with the Decision Optimization solve service\n    Step 4: Analyze the solution and run an example analysis", 
            "cell_type": "markdown"
        }, 
        {
            "metadata": {}, 
            "source": "Import Data from Object Storage", 
            "cell_type": "markdown"
        }, 
        {
            "source": "# The code was removed by DSX for sharing.", 
            "metadata": {}, 
            "execution_count": 1, 
            "cell_type": "code", 
            "outputs": [
                {
                    "data": {
                        "text/html": "<div>\n<style>\n    .dataframe thead tr:only-child th {\n        text-align: right;\n    }\n\n    .dataframe thead th {\n        text-align: left;\n    }\n\n    .dataframe tbody tr th {\n        vertical-align: top;\n    }\n</style>\n<table border=\"1\" class=\"dataframe\">\n  <thead>\n    <tr style=\"text-align: right;\">\n      <th></th>\n      <th>CUST_ID</th>\n      <th>Traveling Party</th>\n      <th>Trip Delay</th>\n      <th>Destination Airport Code</th>\n      <th>Destination Continent</th>\n      <th>Destination Country</th>\n      <th>Destination City</th>\n      <th>Length of Trip</th>\n      <th>Destination Type</th>\n      <th>Booking Type</th>\n      <th>...</th>\n      <th>Month Num of Birth</th>\n      <th>Own Home</th>\n      <th>Responded to Promo</th>\n      <th>Sales Rep_ID</th>\n      <th>Age Band</th>\n      <th>Income_BIN</th>\n      <th>Return_Customer</th>\n      <th>$XF-Return_Customer</th>\n      <th>$XFC-Return_Customer</th>\n      <th>probability</th>\n    </tr>\n  </thead>\n  <tbody>\n    <tr>\n      <th>0</th>\n      <td>1</td>\n      <td>2</td>\n      <td>Yes</td>\n      <td>AKL</td>\n      <td>Aust</td>\n      <td>New Zealand</td>\n      <td>Auckland</td>\n      <td>6</td>\n      <td>Hotel</td>\n      <td>Online</td>\n      <td>...</td>\n      <td>12</td>\n      <td>No</td>\n      <td>No</td>\n      <td>5</td>\n      <td>43 to 53</td>\n      <td>1</td>\n      <td>Y</td>\n      <td>N</td>\n      <td>0.870</td>\n      <td>0.130</td>\n    </tr>\n    <tr>\n      <th>1</th>\n      <td>1</td>\n      <td>1</td>\n      <td>No</td>\n      <td>DCA</td>\n      <td>NaN</td>\n      <td>USA</td>\n      <td>Washington DC</td>\n      <td>5</td>\n      <td>Resort</td>\n      <td>Online</td>\n      <td>...</td>\n      <td>12</td>\n      <td>No</td>\n      <td>No</td>\n      <td>5</td>\n      <td>43 to 53</td>\n      <td>1</td>\n      <td>Y</td>\n      <td>N</td>\n      <td>0.812</td>\n      <td>0.188</td>\n    </tr>\n    <tr>\n      <th>2</th>\n      <td>5</td>\n      <td>7</td>\n      <td>No</td>\n      <td>BGI</td>\n      <td>Caribbean</td>\n      <td>Barbados</td>\n      <td>Seawell</td>\n      <td>5</td>\n      <td>Hotel</td>\n      <td>Online</td>\n      <td>...</td>\n      <td>6</td>\n      <td>Yes</td>\n      <td>No</td>\n      <td>9</td>\n      <td>21_to 31</td>\n      <td>4</td>\n      <td>N</td>\n      <td>N</td>\n      <td>0.500</td>\n      <td>0.500</td>\n    </tr>\n    <tr>\n      <th>3</th>\n      <td>6</td>\n      <td>4</td>\n      <td>No</td>\n      <td>LAS</td>\n      <td>NaN</td>\n      <td>USA</td>\n      <td>Las Vegas</td>\n      <td>6</td>\n      <td>Timeshare</td>\n      <td>Online</td>\n      <td>...</td>\n      <td>1</td>\n      <td>Yes</td>\n      <td>No</td>\n      <td>7</td>\n      <td>21_to 31</td>\n      <td>4</td>\n      <td>Y</td>\n      <td>Y</td>\n      <td>0.826</td>\n      <td>0.826</td>\n    </tr>\n    <tr>\n      <th>4</th>\n      <td>7</td>\n      <td>4</td>\n      <td>No</td>\n      <td>CIA</td>\n      <td>EUR</td>\n      <td>Italy</td>\n      <td>Rome</td>\n      <td>10</td>\n      <td>Resort</td>\n      <td>Online</td>\n      <td>...</td>\n      <td>12</td>\n      <td>Yes</td>\n      <td>No</td>\n      <td>4</td>\n      <td>32 to 42</td>\n      <td>5</td>\n      <td>Y</td>\n      <td>Y</td>\n      <td>0.874</td>\n      <td>0.874</td>\n    </tr>\n  </tbody>\n</table>\n<p>5 rows \u00d7 47 columns</p>\n</div>", 
                        "text/plain": "   CUST_ID  Traveling Party Trip Delay Destination Airport Code  \\\n0        1                2        Yes                      AKL   \n1        1                1         No                      DCA   \n2        5                7         No                      BGI   \n3        6                4         No                      LAS   \n4        7                4         No                      CIA   \n\n  Destination Continent Destination Country Destination City  Length of Trip  \\\n0                  Aust         New Zealand         Auckland               6   \n1                   NaN                 USA    Washington DC               5   \n2             Caribbean            Barbados          Seawell               5   \n3                   NaN                 USA        Las Vegas               6   \n4                   EUR               Italy             Rome              10   \n\n  Destination Type Booking Type     ...      Month Num of Birth Own Home  \\\n0            Hotel       Online     ...                      12       No   \n1           Resort       Online     ...                      12       No   \n2            Hotel       Online     ...                       6      Yes   \n3        Timeshare       Online     ...                       1      Yes   \n4           Resort       Online     ...                      12      Yes   \n\n  Responded to Promo Sales Rep_ID  Age Band  Income_BIN  Return_Customer  \\\n0                 No            5  43 to 53           1                Y   \n1                 No            5  43 to 53           1                Y   \n2                 No            9  21_to 31           4                N   \n3                 No            7  21_to 31           4                Y   \n4                 No            4  32 to 42           5                Y   \n\n   $XF-Return_Customer  $XFC-Return_Customer  probability  \n0                    N                 0.870        0.130  \n1                    N                 0.812        0.188  \n2                    N                 0.500        0.500  \n3                    Y                 0.826        0.826  \n4                    Y                 0.874        0.874  \n\n[5 rows x 47 columns]"
                    }, 
                    "metadata": {}, 
                    "execution_count": 1, 
                    "output_type": "execute_result"
                }
            ]
        }, 
        {
            "metadata": {}, 
            "source": "# Prepare Data", 
            "cell_type": "markdown"
        }, 
        {
            "metadata": {}, 
            "source": "Replace spaces in column names and filter 2015 data and create Pivot table", 
            "cell_type": "markdown"
        }, 
        {
            "source": "df_data_1.columns = [c.replace(' ', '_') for c in df_data_1.columns]\ndf_data_1 = df_data_1[df_data_1.Booking_Year == 2015]\ntotal_rows = df_data_1['CUST_ID'].count()\nprint (total_rows)", 
            "metadata": {}, 
            "execution_count": 2, 
            "cell_type": "code", 
            "outputs": [
                {
                    "name": "stdout", 
                    "output_type": "stream", 
                    "text": "6270\n"
                }
            ]
        }, 
        {
            "source": "PivotView = df_data_1.pivot_table(index='CUST_ID', columns = 'Package_Type', values='probability')", 
            "metadata": {
                "collapsed": true
            }, 
            "execution_count": 3, 
            "cell_type": "code", 
            "outputs": []
        }, 
        {
            "source": "FilterData = PivotView.dropna(thresh=3)", 
            "metadata": {
                "collapsed": true
            }, 
            "execution_count": 4, 
            "cell_type": "code", 
            "outputs": []
        }, 
        {
            "source": "list = []\nfor i in range(len(FilterData.index)):\n    row = FilterData.iloc[[i]]\n    tup = ((row.index.tolist()[0], row.columns[0], round(float(row[row.columns[0]].tolist()[0]),3), \n            row.columns[1], round(float(row[row.columns[1]].tolist()[0]),3),\n            row.columns[2], round(float(row[row.columns[2]].tolist()[0]),3)))\n    list.append(tup)\n#list", 
            "metadata": {
                "collapsed": true
            }, 
            "execution_count": 5, 
            "cell_type": "code", 
            "outputs": []
        }, 
        {
            "source": "\ndf_data_2 = pd.read_csv(get_object_storage_file_with_credentials_05c30ea585c743be863f3cc490872dea('CPLEX', 'joined_trips_customers.csv'))\nnames = pd.DataFrame(df_data_2, columns = ['CUST_ID', 'Customer Name'])\nnames = names.rename(columns={'CUST_ID': 'customerid'})", 
            "metadata": {
                "collapsed": true
            }, 
            "execution_count": 6, 
            "cell_type": "code", 
            "outputs": []
        }, 
        {
            "metadata": {}, 
            "source": "Let's customize the display of this data and show the confidence forecast for each customer.", 
            "cell_type": "markdown"
        }, 
        {
            "source": "offers = pd.DataFrame(data=list, index=range(0, len(list)), columns=[\"customerid\", \"Package1\", \"Confidence1\", \"Package2\", \"Confidence2\",\"Package3\", \"Confidence3\"])\noffers.head(5)", 
            "metadata": {}, 
            "execution_count": 7, 
            "cell_type": "code", 
            "outputs": [
                {
                    "data": {
                        "text/html": "<div>\n<style>\n    .dataframe thead tr:only-child th {\n        text-align: right;\n    }\n\n    .dataframe thead th {\n        text-align: left;\n    }\n\n    .dataframe tbody tr th {\n        vertical-align: top;\n    }\n</style>\n<table border=\"1\" class=\"dataframe\">\n  <thead>\n    <tr style=\"text-align: right;\">\n      <th></th>\n      <th>customerid</th>\n      <th>Package1</th>\n      <th>Confidence1</th>\n      <th>Package2</th>\n      <th>Confidence2</th>\n      <th>Package3</th>\n      <th>Confidence3</th>\n    </tr>\n  </thead>\n  <tbody>\n    <tr>\n      <th>0</th>\n      <td>735</td>\n      <td>Family</td>\n      <td>0.754</td>\n      <td>Outdoors</td>\n      <td>0.763</td>\n      <td>Sightseeing</td>\n      <td>0.769</td>\n    </tr>\n    <tr>\n      <th>1</th>\n      <td>1047</td>\n      <td>Family</td>\n      <td>0.765</td>\n      <td>Outdoors</td>\n      <td>0.761</td>\n      <td>Sightseeing</td>\n      <td>0.774</td>\n    </tr>\n    <tr>\n      <th>2</th>\n      <td>1315</td>\n      <td>Family</td>\n      <td>0.793</td>\n      <td>Outdoors</td>\n      <td>0.775</td>\n      <td>Sightseeing</td>\n      <td>0.804</td>\n    </tr>\n    <tr>\n      <th>3</th>\n      <td>3009</td>\n      <td>Family</td>\n      <td>0.862</td>\n      <td>Outdoors</td>\n      <td>0.850</td>\n      <td>Sightseeing</td>\n      <td>0.842</td>\n    </tr>\n    <tr>\n      <th>4</th>\n      <td>3285</td>\n      <td>Family</td>\n      <td>0.792</td>\n      <td>Outdoors</td>\n      <td>0.787</td>\n      <td>Sightseeing</td>\n      <td>0.799</td>\n    </tr>\n  </tbody>\n</table>\n</div>", 
                        "text/plain": "   customerid Package1  Confidence1  Package2  Confidence2     Package3  \\\n0         735   Family        0.754  Outdoors        0.763  Sightseeing   \n1        1047   Family        0.765  Outdoors        0.761  Sightseeing   \n2        1315   Family        0.793  Outdoors        0.775  Sightseeing   \n3        3009   Family        0.862  Outdoors        0.850  Sightseeing   \n4        3285   Family        0.792  Outdoors        0.787  Sightseeing   \n\n   Confidence3  \n0        0.769  \n1        0.774  \n2        0.804  \n3        0.842  \n4        0.799  "
                    }, 
                    "metadata": {}, 
                    "execution_count": 7, 
                    "output_type": "execute_result"
                }
            ]
        }, 
        {
            "source": "packages = [\"Family\", \"Outdoors\", \"Sightseeing\"]\npackageValue = [100, 200, 75]\nbudgetShare = [0.4, 0.4, 0.2]\n\navailableBudget = 500\nchannels =  pd.DataFrame(data=[(\"email\", 20.0, 0.20), (\"newsletter\", 15.0, 0.05), (\"phone\", 23.0, 0.20)], columns=[\"name\", \"cost\", \"factor\"])", 
            "metadata": {
                "collapsed": true
            }, 
            "execution_count": 8, 
            "cell_type": "code", 
            "outputs": []
        }, 
        {
            "metadata": {}, 
            "source": "# Step 1: Download the library\n\nFirst install docplex and set the credentials to solve the model using IBM ILOG CPLEX Optimizer on Cloud.\n", 
            "cell_type": "markdown"
        }, 
        {
            "source": "import docplex.mp", 
            "metadata": {
                "collapsed": true
            }, 
            "execution_count": 9, 
            "cell_type": "code", 
            "outputs": []
        }, 
        {
            "metadata": {}, 
            "source": "# Step 2: Set up the prescriptive engine\n\n    Subscribe to the Decision Optimization on Cloud solve service here.\n    Get the service URL and your personal API key and enter your credentials here:", 
            "cell_type": "markdown"
        }, 
        {
            "source": "url = \"https://api-oaas.docloud.ibmcloud.com/job_manager/rest/v1/\"\nkey = \"api_312f8c64-4363-433b-a730-8ddcbdab3327\"", 
            "metadata": {
                "collapsed": true
            }, 
            "execution_count": 10, 
            "cell_type": "code", 
            "outputs": []
        }, 
        {
            "metadata": {}, 
            "source": "# Step 3: Set up the prescriptive model\nCreate the model", 
            "cell_type": "markdown"
        }, 
        {
            "source": "from docplex.mp.model import Model\n\nmdl = Model(name=\"marketing_campaign\")", 
            "metadata": {
                "collapsed": true
            }, 
            "execution_count": 11, 
            "cell_type": "code", 
            "outputs": []
        }, 
        {
            "metadata": {}, 
            "source": "# Define the decision variables\u00b6\nThe integer decision variables channelVars, represent whether or not a customer will be made an offer for a particular product via a particular channel.", 
            "cell_type": "markdown"
        }, 
        {
            "source": "offersR = range(0, len(offers))\npackagesR = range(0, len(packages))\nchannelsR = range(0, len(channels))", 
            "metadata": {
                "collapsed": true
            }, 
            "execution_count": 12, 
            "cell_type": "code", 
            "outputs": []
        }, 
        {
            "metadata": {}, 
            "source": "The integer decision variable totaloffers represents the total number of offers made.", 
            "cell_type": "markdown"
        }, 
        {
            "source": "channelVars = mdl.binary_var_cube(offersR, packagesR, channelsR)\ntotaloffers = mdl.integer_var(lb=0)\nbudgetSpent = mdl.continuous_var()", 
            "metadata": {
                "collapsed": true
            }, 
            "execution_count": 13, 
            "cell_type": "code", 
            "outputs": []
        }, 
        {
            "metadata": {}, 
            "source": "The continuous variable budgetSpent represents the total cost of the offers made.", 
            "cell_type": "markdown"
        }, 
        {
            "metadata": {}, 
            "source": "# Set up the constraints\n\n    Offer only one product per customer.\n    Compute the budget and set a maximum on it.\n    Compute the number of offers to be made.", 
            "cell_type": "markdown"
        }, 
        {
            "source": "#Only 1 product is offered to each customer     \nmdl.add_constraints( mdl.sum(channelVars[o,p,c] for p in packagesR for c in channelsR) <=1\n                   for o in offersR)\n\nmdl.add_constraint( totaloffers == mdl.sum(channelVars[o,p,c] \n                                           for o in offersR \n                                           for p in packagesR\n                                           for c in channelsR) )\n\nmdl.add_constraint( budgetSpent == mdl.sum(channelVars[o,p,c]*channels.get_value(index=c, col=\"cost\") \n                                           for o in offersR \n                                           for p in packagesR\n                                           for c in channelsR) )\n\n# Balance the offers among products   \nfor p in packagesR:\n    mdl.add_constraint( mdl.sum(channelVars[o,p,c] for o in offersR for c in channelsR) \n                       <= budgetShare[p] * totaloffers )\n\n# Do not exceed the budget\nmdl.add_constraint( mdl.sum(channelVars[o,p,c]*channels.get_value(index=c, col=\"cost\") \n                            for o in offersR \n                            for p in packagesR \n                            for c in channelsR)  <= availableBudget )  \n# mdl.print_information()\n", 
            "metadata": {}, 
            "execution_count": 14, 
            "cell_type": "code", 
            "outputs": [
                {
                    "data": {
                        "text/plain": "docplex.mp.linear.LinearConstraint[](20_x1+15_x2+23_x3+20_x4+15_x5+23_x6+20_x7+15_x8+23_x9+20_x10+15_x11+23_x12+20_x13+15_x14+23_x15+20_x16+15_x17+23_x18+20_x19+15_x20+23_x21+20_x22+15_x23+23_x24+20_x25+15_x26+23_x27+20_x28+15_x29+23_x30+20_x31+15_x32+23_x33+20_x34+15_x35+23_x36+20_x37+15_x38+23_x39+20_x40+15_x41+23_x42+20_x43+15_x44+23_x45+20_x46+15_x47+23_x48+20_x49+15_x50+23_x51+20_x52+15_x53+23_x54+20_x55+15_x56+23_x57+20_x58+15_x59+23_x60+20_x61+15_x62+23_x63+20_x64+15_x65+23_x66+20_x67+15_x68+23_x69+20_x70+15_x71+23_x72+20_x73+15_x74+23_x75+20_x76+15_x77+23_x78+20_x79+15_x80+23_x81+20_x82+15_x83+23_x84+20_x85+15_x86+23_x87+20_x88+15_x89+23_x90+20_x91+15_x92+23_x93+20_x94+15_x95+23_x96+20_x97+15_x98+23_x99+20_x100+15_x101+23_x102+20_x103+15_x104+23_x105+20_x106+15_x107+23_x108+20_x109+15_x110+23_x111+20_x112+15_x113+23_x114+20_x115+15_x116+23_x117+20_x118+15_x119+23_x120+20_x121+15_x122+23_x123+20_x124+15_x125+23_x126+20_x127+15_x128+23_x129+20_x130+15_x131+23_x132+20_x133+15_x134+23_x135+20_x136+15_x137+23_x138+20_x139+15_x140+23_x141+20_x142+15_x143+23_x144,LE,500)"
                    }, 
                    "metadata": {}, 
                    "execution_count": 14, 
                    "output_type": "execute_result"
                }
            ]
        }, 
        {
            "metadata": {}, 
            "source": "Express the objective\n\nWe want to maximize the expected revenue.", 
            "cell_type": "markdown"
        }, 
        {
            "source": "mdl.maximize(\n    mdl.sum( channelVars[idx,p,idx2] * c.factor * packageValue[p]* o.Confidence1  \n            for p in packagesR \n            for idx,o in offers[offers['Package1'] == packages[p]].iterrows()  \n            for idx2, c in channels.iterrows())\n    +\n    mdl.sum( channelVars[idx,p,idx2] * c.factor * packageValue[p]* o.Confidence2 \n            for p in packagesR\n            for idx,o in offers[offers['Package2'] == packages[p]].iterrows() \n            for idx2, c in channels.iterrows())\n    +\n    mdl.sum( channelVars[idx,p,idx2] * c.factor * packageValue[p]* o.Confidence3 \n            for p in packagesR\n            for idx,o in offers[offers['Package3'] == packages[p]].iterrows() \n            for idx2, c in channels.iterrows())\n    )", 
            "metadata": {
                "collapsed": true
            }, 
            "execution_count": 15, 
            "cell_type": "code", 
            "outputs": []
        }, 
        {
            "metadata": {}, 
            "source": "Solve with the Decision Optimization solve service", 
            "cell_type": "markdown"
        }, 
        {
            "source": "s = mdl.solve(url=url, key=key)\nprint(s)", 
            "metadata": {}, 
            "execution_count": 16, 
            "cell_type": "code", 
            "outputs": [
                {
                    "name": "stdout", 
                    "output_type": "stream", 
                    "text": "solution for: marketing_campaign\nobjective: 339.615\n_x33=1\n_x129=1\n_x69=1\n_x39=1\n_x146=330.000\n_x9=1\n_x138=1\n_x78=1\n_x48=1\n_x145=15\n_x18=1\n_x19=1\n_x85=1\n_x120=1\n_x112=1\n_x61=1\n_x94=1\n\n"
                }
            ]
        }, 
        {
            "metadata": {}, 
            "source": "# Step 4: Analyze the solution\u00b6\n\nFirst, let's display the Optimal Marketing Channel per customer.", 
            "cell_type": "markdown"
        }, 
        {
            "source": "report = [(channels.get_value(index=c,col=\"name\"), packages[p], offers.get_value(o, \"customerid\")) \n          for c in channelsR \n          for p in packagesR \n          for o in offersR  if channelVars[o,p,c].solution_value==1]\nassert len(report) == totaloffers.solution_value\n\nprint(\"Marketing plan has {0} offers costing {1}\".format(totaloffers.solution_value, budgetSpent.solution_value))\n\nreport_bd = pd.DataFrame(report, columns=['channel', 'product', 'customer'])\nprint(report_bd)", 
            "metadata": {}, 
            "execution_count": 17, 
            "cell_type": "code", 
            "outputs": [
                {
                    "name": "stdout", 
                    "output_type": "stream", 
                    "text": "Marketing plan has 15.0 offers costing 330.0\n   channel      product  customer\n0    email       Family      1315\n1    email     Outdoors      7279\n2    email     Outdoors      9419\n3    email     Outdoors     12208\n4    email  Sightseeing      4528\n5    phone       Family      3285\n6    phone       Family      3750\n7    phone       Family     13432\n8    phone       Family     14625\n9    phone       Family     14835\n10   phone     Outdoors      3009\n11   phone     Outdoors      4671\n12   phone     Outdoors      4948\n13   phone  Sightseeing       735\n14   phone  Sightseeing      1047\n"
                }
            ]
        }
    ], 
    "nbformat_minor": 1
}