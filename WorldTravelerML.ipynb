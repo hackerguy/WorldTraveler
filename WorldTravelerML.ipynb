{
    "metadata": {
        "language_info": {
            "version": "3.5.2", 
            "file_extension": ".py", 
            "codemirror_mode": {
                "version": 3, 
                "name": "ipython"
            }, 
            "mimetype": "text/x-python", 
            "nbconvert_exporter": "python", 
            "name": "python", 
            "pygments_lexer": "ipython3"
        }, 
        "kernelspec": {
            "display_name": "Python 3.5 (Experimental) with Spark 2.1", 
            "language": "python", 
            "name": "python3-spark21"
        }
    }, 
    "nbformat": 4, 
    "cells": [
        {
            "metadata": {
                "collapsed": true
            }, 
            "cell_type": "markdown", 
            "source": "# Upgrade pandas and sklearn packages to latest versions"
        }, 
        {
            "metadata": {
                "collapsed": true
            }, 
            "outputs": [], 
            "cell_type": "code", 
            "execution_count": 2, 
            "source": "# Upgrade pandas to latest version\n#!pip install pandas --upgrade\n# Upgrade scikit-learn to latest version\n#!pip install sklearn --upgrade"
        }, 
        {
            "metadata": {}, 
            "cell_type": "markdown", 
            "source": "# Import packages and verify versions"
        }, 
        {
            "metadata": {}, 
            "outputs": [
                {
                    "output_type": "stream", 
                    "text": "The pandas version is 0.20.3.\nThe scikit-learn version is 0.18.2.\n", 
                    "name": "stdout"
                }
            ], 
            "cell_type": "code", 
            "execution_count": 3, 
            "source": "import pandas as pd\nimport sklearn\nprint('The pandas version is {}.'.format(pd.__version__))\nprint('The scikit-learn version is {}.'.format(sklearn.__version__))"
        }, 
        {
            "metadata": {}, 
            "cell_type": "markdown", 
            "source": "# Load data"
        }, 
        {
            "metadata": {
                "collapsed": true
            }, 
            "outputs": [], 
            "cell_type": "code", 
            "execution_count": 4, 
            "source": "url_customers = 'https://ibm.box.com/shared/static/g1dawssthj3nab1tnfp9nk1eovj2otsb.csv'\nurl_trips = 'https://ibm.box.com/shared/static/o651sl0i85zltfyrfqaqjnbp7dg53bem.csv'"
        }, 
        {
            "metadata": {
                "collapsed": true
            }, 
            "outputs": [], 
            "cell_type": "code", 
            "execution_count": 5, 
            "source": "customers = pd.read_table(url_customers,sep=',')\ntrips = pd.read_table(url_trips,sep=',')"
        }, 
        {
            "metadata": {
                "collapsed": true
            }, 
            "outputs": [], 
            "cell_type": "code", 
            "execution_count": 6, 
            "source": "customers.columns = [col.replace(' ', '') for col in customers.columns]\ntrips.columns = [col.replace(' ', '') for col in trips.columns]"
        }, 
        {
            "metadata": {}, 
            "outputs": [
                {
                    "metadata": {}, 
                    "output_type": "execute_result", 
                    "execution_count": 7, 
                    "data": {
                        "text/plain": "   CUST_ID     CustomerName            CustomerEmail CustomerCountry  \\\n0        1      Carla Abney      Carla.Abney@cox.net             USA   \n1        2  Florencia Abney  Florencia.Abney@cox.net             USA   \n2        3      Gilma Abney      Gilma.Abney@cox.net             USA   \n3        4    Joaquin Abney  Joaquin.Abney@gmail.com             USA   \n4        5       King Abney     King.Abney@gmail.com             USA   \n\n   CustomerContinent      CustomerAddress CustomerCity CustomerState  \\\n0                NaN      71 S Newtown St       Boston            MA   \n1                NaN  4 Bloomfield Ave #5   Manchester            NH   \n2                NaN      841 N Monroe St       Boston            MA   \n3                NaN        5094 Poway Rd       Boston            MA   \n4                NaN      43 Winnetka Ave       Boston            MA   \n\n   CustomerPostalCode CustomerPhone Gender  Age MaritalStatus  Profession  \\\n0                2210  617-203-6529      F   44             S     Teacher   \n1                3101  603-364-5269      F   21             U  Pharmacist   \n2                2210  617-862-3297      F   28             U     Teacher   \n3                2210  617-875-9701      M   47             M    Engineer   \n4                2210  617-521-9619      M   26             U    Engineer   \n\n  EducationLevel    Income  MembersinHousehold PetOwner MonthBirth  \\\n0        College   43225.2                   1      Yes   December   \n1   Post College  123212.4                   2      Yes    January   \n2        College   51082.8                   2       No        May   \n3        College   90913.2                   3       No       July   \n4   Post College  107592.0                   2      Yes       June   \n\n   MonthNumofBirth OwnHome RespondedtoPromo  SalesRep_ID   AgeBand  \\\n0               12      No               No            5  43 to 53   \n1                1      No               No            5  21_to 31   \n2                5     Yes               No            6  21_to 31   \n3                7     Yes               No            6  43 to 53   \n4                6     Yes               No            9  21_to 31   \n\n   NumberofTrips  \n0              2  \n1              1  \n2              1  \n3              1  \n4              1  ", 
                        "text/html": "<div>\n<style>\n    .dataframe thead tr:only-child th {\n        text-align: right;\n    }\n\n    .dataframe thead th {\n        text-align: left;\n    }\n\n    .dataframe tbody tr th {\n        vertical-align: top;\n    }\n</style>\n<table border=\"1\" class=\"dataframe\">\n  <thead>\n    <tr style=\"text-align: right;\">\n      <th></th>\n      <th>CUST_ID</th>\n      <th>CustomerName</th>\n      <th>CustomerEmail</th>\n      <th>CustomerCountry</th>\n      <th>CustomerContinent</th>\n      <th>CustomerAddress</th>\n      <th>CustomerCity</th>\n      <th>CustomerState</th>\n      <th>CustomerPostalCode</th>\n      <th>CustomerPhone</th>\n      <th>Gender</th>\n      <th>Age</th>\n      <th>MaritalStatus</th>\n      <th>Profession</th>\n      <th>EducationLevel</th>\n      <th>Income</th>\n      <th>MembersinHousehold</th>\n      <th>PetOwner</th>\n      <th>MonthBirth</th>\n      <th>MonthNumofBirth</th>\n      <th>OwnHome</th>\n      <th>RespondedtoPromo</th>\n      <th>SalesRep_ID</th>\n      <th>AgeBand</th>\n      <th>NumberofTrips</th>\n    </tr>\n  </thead>\n  <tbody>\n    <tr>\n      <th>0</th>\n      <td>1</td>\n      <td>Carla Abney</td>\n      <td>Carla.Abney@cox.net</td>\n      <td>USA</td>\n      <td>NaN</td>\n      <td>71 S Newtown St</td>\n      <td>Boston</td>\n      <td>MA</td>\n      <td>2210</td>\n      <td>617-203-6529</td>\n      <td>F</td>\n      <td>44</td>\n      <td>S</td>\n      <td>Teacher</td>\n      <td>College</td>\n      <td>43225.2</td>\n      <td>1</td>\n      <td>Yes</td>\n      <td>December</td>\n      <td>12</td>\n      <td>No</td>\n      <td>No</td>\n      <td>5</td>\n      <td>43 to 53</td>\n      <td>2</td>\n    </tr>\n    <tr>\n      <th>1</th>\n      <td>2</td>\n      <td>Florencia Abney</td>\n      <td>Florencia.Abney@cox.net</td>\n      <td>USA</td>\n      <td>NaN</td>\n      <td>4 Bloomfield Ave #5</td>\n      <td>Manchester</td>\n      <td>NH</td>\n      <td>3101</td>\n      <td>603-364-5269</td>\n      <td>F</td>\n      <td>21</td>\n      <td>U</td>\n      <td>Pharmacist</td>\n      <td>Post College</td>\n      <td>123212.4</td>\n      <td>2</td>\n      <td>Yes</td>\n      <td>January</td>\n      <td>1</td>\n      <td>No</td>\n      <td>No</td>\n      <td>5</td>\n      <td>21_to 31</td>\n      <td>1</td>\n    </tr>\n    <tr>\n      <th>2</th>\n      <td>3</td>\n      <td>Gilma Abney</td>\n      <td>Gilma.Abney@cox.net</td>\n      <td>USA</td>\n      <td>NaN</td>\n      <td>841 N Monroe St</td>\n      <td>Boston</td>\n      <td>MA</td>\n      <td>2210</td>\n      <td>617-862-3297</td>\n      <td>F</td>\n      <td>28</td>\n      <td>U</td>\n      <td>Teacher</td>\n      <td>College</td>\n      <td>51082.8</td>\n      <td>2</td>\n      <td>No</td>\n      <td>May</td>\n      <td>5</td>\n      <td>Yes</td>\n      <td>No</td>\n      <td>6</td>\n      <td>21_to 31</td>\n      <td>1</td>\n    </tr>\n    <tr>\n      <th>3</th>\n      <td>4</td>\n      <td>Joaquin Abney</td>\n      <td>Joaquin.Abney@gmail.com</td>\n      <td>USA</td>\n      <td>NaN</td>\n      <td>5094 Poway Rd</td>\n      <td>Boston</td>\n      <td>MA</td>\n      <td>2210</td>\n      <td>617-875-9701</td>\n      <td>M</td>\n      <td>47</td>\n      <td>M</td>\n      <td>Engineer</td>\n      <td>College</td>\n      <td>90913.2</td>\n      <td>3</td>\n      <td>No</td>\n      <td>July</td>\n      <td>7</td>\n      <td>Yes</td>\n      <td>No</td>\n      <td>6</td>\n      <td>43 to 53</td>\n      <td>1</td>\n    </tr>\n    <tr>\n      <th>4</th>\n      <td>5</td>\n      <td>King Abney</td>\n      <td>King.Abney@gmail.com</td>\n      <td>USA</td>\n      <td>NaN</td>\n      <td>43 Winnetka Ave</td>\n      <td>Boston</td>\n      <td>MA</td>\n      <td>2210</td>\n      <td>617-521-9619</td>\n      <td>M</td>\n      <td>26</td>\n      <td>U</td>\n      <td>Engineer</td>\n      <td>Post College</td>\n      <td>107592.0</td>\n      <td>2</td>\n      <td>Yes</td>\n      <td>June</td>\n      <td>6</td>\n      <td>Yes</td>\n      <td>No</td>\n      <td>9</td>\n      <td>21_to 31</td>\n      <td>1</td>\n    </tr>\n  </tbody>\n</table>\n</div>"
                    }
                }
            ], 
            "cell_type": "code", 
            "execution_count": 7, 
            "source": "pd.set_option('display.max_columns', None)\ncustomers.head()"
        }, 
        {
            "metadata": {}, 
            "outputs": [
                {
                    "metadata": {}, 
                    "output_type": "execute_result", 
                    "execution_count": 8, 
                    "data": {
                        "text/plain": "   BookingID  CUST_ID  TravelingParty TripDelay DestinationAirportCode  \\\n0      30238     23.0               2        No                    HND   \n1      44890      1.0               2       Yes                    AKL   \n2      29926     25.0               3        No                    HNL   \n3      14835      2.0               7        No                    LAS   \n4      47200      1.0               1        No                    DCA   \n\n  DestinationContinent DestinationCountry DestinationCity  LengthofTrip  \\\n0                 Asia              Japan           Tokyo            12   \n1                 Aust        New Zealand        Auckland             6   \n2                  NaN                USA        Honolulu             4   \n3                  NaN                USA       Las Vegas             7   \n4                  NaN                USA   Washington DC             5   \n\n  DestinationType BookingType Classification MultiDestination Origin  \\\n0           Hotel      Office        Premium                N    BDL   \n1           Hotel      Online        Premium                Y    BOS   \n2       Timeshare      Office        Premium                N    MHT   \n3          Resort       Phone        Premium                N    BOS   \n4          Resort      Online         Luxury                N    BOS   \n\n  PackageType PaymentPlan  TripCostPerPersonPerDay BookingDate TripStartDate  \\\n0    Outdoors           N                   439.50    10/15/14       3/13/15   \n1    Outdoors           N                   425.00     2/23/14      12/12/14   \n2    Outdoors           N                   316.66     6/27/14       1/12/15   \n3    Shopping           N                   267.84    10/30/14       8/20/15   \n4    Outdoors           Y                   559.98     11/5/14      12/25/14   \n\n   DaysBetweenBookingandTrip  TotalCost  BookingYear  BookingMonth  \\\n0                        149   10548.00         2014            10   \n1                        292    5100.00         2014             2   \n2                        199    3799.92         2014             6   \n3                        294   13124.16         2014            10   \n4                         50    2799.90         2014            11   \n\n   BookingDay  TripYear  TripMonth  TripDay  DayofWeekTripStart  \n0          15      2015          3       13                   6  \n1          23      2014         12       12                   6  \n2          27      2015          1       12                   2  \n3          30      2015          8       20                   5  \n4           5      2014         12       25                   5  ", 
                        "text/html": "<div>\n<style>\n    .dataframe thead tr:only-child th {\n        text-align: right;\n    }\n\n    .dataframe thead th {\n        text-align: left;\n    }\n\n    .dataframe tbody tr th {\n        vertical-align: top;\n    }\n</style>\n<table border=\"1\" class=\"dataframe\">\n  <thead>\n    <tr style=\"text-align: right;\">\n      <th></th>\n      <th>BookingID</th>\n      <th>CUST_ID</th>\n      <th>TravelingParty</th>\n      <th>TripDelay</th>\n      <th>DestinationAirportCode</th>\n      <th>DestinationContinent</th>\n      <th>DestinationCountry</th>\n      <th>DestinationCity</th>\n      <th>LengthofTrip</th>\n      <th>DestinationType</th>\n      <th>BookingType</th>\n      <th>Classification</th>\n      <th>MultiDestination</th>\n      <th>Origin</th>\n      <th>PackageType</th>\n      <th>PaymentPlan</th>\n      <th>TripCostPerPersonPerDay</th>\n      <th>BookingDate</th>\n      <th>TripStartDate</th>\n      <th>DaysBetweenBookingandTrip</th>\n      <th>TotalCost</th>\n      <th>BookingYear</th>\n      <th>BookingMonth</th>\n      <th>BookingDay</th>\n      <th>TripYear</th>\n      <th>TripMonth</th>\n      <th>TripDay</th>\n      <th>DayofWeekTripStart</th>\n    </tr>\n  </thead>\n  <tbody>\n    <tr>\n      <th>0</th>\n      <td>30238</td>\n      <td>23.0</td>\n      <td>2</td>\n      <td>No</td>\n      <td>HND</td>\n      <td>Asia</td>\n      <td>Japan</td>\n      <td>Tokyo</td>\n      <td>12</td>\n      <td>Hotel</td>\n      <td>Office</td>\n      <td>Premium</td>\n      <td>N</td>\n      <td>BDL</td>\n      <td>Outdoors</td>\n      <td>N</td>\n      <td>439.50</td>\n      <td>10/15/14</td>\n      <td>3/13/15</td>\n      <td>149</td>\n      <td>10548.00</td>\n      <td>2014</td>\n      <td>10</td>\n      <td>15</td>\n      <td>2015</td>\n      <td>3</td>\n      <td>13</td>\n      <td>6</td>\n    </tr>\n    <tr>\n      <th>1</th>\n      <td>44890</td>\n      <td>1.0</td>\n      <td>2</td>\n      <td>Yes</td>\n      <td>AKL</td>\n      <td>Aust</td>\n      <td>New Zealand</td>\n      <td>Auckland</td>\n      <td>6</td>\n      <td>Hotel</td>\n      <td>Online</td>\n      <td>Premium</td>\n      <td>Y</td>\n      <td>BOS</td>\n      <td>Outdoors</td>\n      <td>N</td>\n      <td>425.00</td>\n      <td>2/23/14</td>\n      <td>12/12/14</td>\n      <td>292</td>\n      <td>5100.00</td>\n      <td>2014</td>\n      <td>2</td>\n      <td>23</td>\n      <td>2014</td>\n      <td>12</td>\n      <td>12</td>\n      <td>6</td>\n    </tr>\n    <tr>\n      <th>2</th>\n      <td>29926</td>\n      <td>25.0</td>\n      <td>3</td>\n      <td>No</td>\n      <td>HNL</td>\n      <td>NaN</td>\n      <td>USA</td>\n      <td>Honolulu</td>\n      <td>4</td>\n      <td>Timeshare</td>\n      <td>Office</td>\n      <td>Premium</td>\n      <td>N</td>\n      <td>MHT</td>\n      <td>Outdoors</td>\n      <td>N</td>\n      <td>316.66</td>\n      <td>6/27/14</td>\n      <td>1/12/15</td>\n      <td>199</td>\n      <td>3799.92</td>\n      <td>2014</td>\n      <td>6</td>\n      <td>27</td>\n      <td>2015</td>\n      <td>1</td>\n      <td>12</td>\n      <td>2</td>\n    </tr>\n    <tr>\n      <th>3</th>\n      <td>14835</td>\n      <td>2.0</td>\n      <td>7</td>\n      <td>No</td>\n      <td>LAS</td>\n      <td>NaN</td>\n      <td>USA</td>\n      <td>Las Vegas</td>\n      <td>7</td>\n      <td>Resort</td>\n      <td>Phone</td>\n      <td>Premium</td>\n      <td>N</td>\n      <td>BOS</td>\n      <td>Shopping</td>\n      <td>N</td>\n      <td>267.84</td>\n      <td>10/30/14</td>\n      <td>8/20/15</td>\n      <td>294</td>\n      <td>13124.16</td>\n      <td>2014</td>\n      <td>10</td>\n      <td>30</td>\n      <td>2015</td>\n      <td>8</td>\n      <td>20</td>\n      <td>5</td>\n    </tr>\n    <tr>\n      <th>4</th>\n      <td>47200</td>\n      <td>1.0</td>\n      <td>1</td>\n      <td>No</td>\n      <td>DCA</td>\n      <td>NaN</td>\n      <td>USA</td>\n      <td>Washington DC</td>\n      <td>5</td>\n      <td>Resort</td>\n      <td>Online</td>\n      <td>Luxury</td>\n      <td>N</td>\n      <td>BOS</td>\n      <td>Outdoors</td>\n      <td>Y</td>\n      <td>559.98</td>\n      <td>11/5/14</td>\n      <td>12/25/14</td>\n      <td>50</td>\n      <td>2799.90</td>\n      <td>2014</td>\n      <td>11</td>\n      <td>5</td>\n      <td>2014</td>\n      <td>12</td>\n      <td>25</td>\n      <td>5</td>\n    </tr>\n  </tbody>\n</table>\n</div>"
                    }
                }
            ], 
            "cell_type": "code", 
            "execution_count": 8, 
            "source": "trips.head()"
        }, 
        {
            "metadata": {}, 
            "outputs": [
                {
                    "output_type": "stream", 
                    "text": "Number of rows in customers = 15000\nNumber of rows in trips = 23042\n", 
                    "name": "stdout"
                }
            ], 
            "cell_type": "code", 
            "execution_count": 9, 
            "source": "print('Number of rows in customers = {}'.format(customers.CUST_ID.count()))\nprint('Number of rows in trips = {}'.format(trips.CUST_ID.count()))"
        }, 
        {
            "metadata": {}, 
            "cell_type": "markdown", 
            "source": "# Join Data"
        }, 
        {
            "metadata": {
                "collapsed": true
            }, 
            "outputs": [], 
            "cell_type": "code", 
            "execution_count": 10, 
            "source": "joined = trips.join(customers.set_index('CUST_ID'), on='CUST_ID', how='inner').reset_index(drop=True)"
        }, 
        {
            "metadata": {}, 
            "outputs": [
                {
                    "output_type": "stream", 
                    "text": "Number of rows in joined = 23042\n", 
                    "name": "stdout"
                }, 
                {
                    "metadata": {}, 
                    "output_type": "execute_result", 
                    "execution_count": 11, 
                    "data": {
                        "text/plain": "   BookingID CUST_ID  TravelingParty TripDelay DestinationAirportCode  \\\n0      30238      23               2        No                    HND   \n1      25243      23               5        No                    BGI   \n2      44890       1               2       Yes                    AKL   \n3      47200       1               1        No                    DCA   \n4      29926      25               3        No                    HNL   \n\n  DestinationContinent DestinationCountry DestinationCity  LengthofTrip  \\\n0                 Asia              Japan           Tokyo            12   \n1            Caribbean           Barbados         Seawell            11   \n2                 Aust        New Zealand        Auckland             6   \n3                  NaN                USA   Washington DC             5   \n4                  NaN                USA        Honolulu             4   \n\n  DestinationType BookingType Classification MultiDestination Origin  \\\n0           Hotel      Office        Premium                N    BDL   \n1          Resort      Online         Luxury                N    MHT   \n2           Hotel      Online        Premium                Y    BOS   \n3          Resort      Online         Luxury                N    BOS   \n4       Timeshare      Office        Premium                N    MHT   \n\n  PackageType PaymentPlan  TripCostPerPersonPerDay BookingDate TripStartDate  \\\n0    Outdoors           N                   439.50    10/15/14       3/13/15   \n1      Family           N                   712.80     7/16/15       11/2/15   \n2    Outdoors           N                   425.00     2/23/14      12/12/14   \n3    Outdoors           Y                   559.98     11/5/14      12/25/14   \n4    Outdoors           N                   316.66     6/27/14       1/12/15   \n\n   DaysBetweenBookingandTrip  TotalCost  BookingYear  BookingMonth  \\\n0                        149   10548.00         2014            10   \n1                        109   39204.00         2015             7   \n2                        292    5100.00         2014             2   \n3                         50    2799.90         2014            11   \n4                        199    3799.92         2014             6   \n\n   BookingDay  TripYear  TripMonth  TripDay  DayofWeekTripStart  \\\n0          15      2015          3       13                   6   \n1          16      2015         11        2                   2   \n2          23      2014         12       12                   6   \n3           5      2014         12       25                   5   \n4          27      2015          1       12                   2   \n\n     CustomerName             CustomerEmail CustomerCountry  \\\n0  Adellea Addams  Adellea.Addams@yahoo.com             USA   \n1  Adellea Addams  Adellea.Addams@yahoo.com             USA   \n2     Carla Abney       Carla.Abney@cox.net             USA   \n3     Carla Abney       Carla.Abney@cox.net             USA   \n4    Adria Addams      Adria.Addams@cox.net             USA   \n\n   CustomerContinent     CustomerAddress CustomerCity CustomerState  \\\n0                NaN  15 Ludlow Ave #156     New York            NY   \n1                NaN  15 Ludlow Ave #156     New York            NY   \n2                NaN     71 S Newtown St       Boston            MA   \n3                NaN     71 S Newtown St       Boston            MA   \n4                NaN      1 E Gabilan St       Boston            MA   \n\n   CustomerPostalCode CustomerPhone Gender  Age MaritalStatus  Profession  \\\n0               10001  212-480-9209      F   48             S  Pharmacist   \n1               10001  212-480-9209      F   48             S  Pharmacist   \n2                2210  617-203-6529      F   44             S     Teacher   \n3                2210  617-203-6529      F   44             S     Teacher   \n4                2210  617-356-9602      F   32             U     Nursing   \n\n  EducationLevel    Income  MembersinHousehold PetOwner MonthBirth  \\\n0   Post College  112555.2                   1       No    October   \n1   Post College  112555.2                   1       No    October   \n2        College   43225.2                   1      Yes   December   \n3        College   43225.2                   1      Yes   December   \n4        College   51396.0                   2       No       June   \n\n   MonthNumofBirth OwnHome RespondedtoPromo  SalesRep_ID   AgeBand  \\\n0               10     Yes               No            2  43 to 53   \n1               10     Yes               No            2  43 to 53   \n2               12      No               No            5  43 to 53   \n3               12      No               No            5  43 to 53   \n4                6      No               No            4  32 to 42   \n\n   NumberofTrips  \n0              2  \n1              2  \n2              2  \n3              2  \n4              2  ", 
                        "text/html": "<div>\n<style>\n    .dataframe thead tr:only-child th {\n        text-align: right;\n    }\n\n    .dataframe thead th {\n        text-align: left;\n    }\n\n    .dataframe tbody tr th {\n        vertical-align: top;\n    }\n</style>\n<table border=\"1\" class=\"dataframe\">\n  <thead>\n    <tr style=\"text-align: right;\">\n      <th></th>\n      <th>BookingID</th>\n      <th>CUST_ID</th>\n      <th>TravelingParty</th>\n      <th>TripDelay</th>\n      <th>DestinationAirportCode</th>\n      <th>DestinationContinent</th>\n      <th>DestinationCountry</th>\n      <th>DestinationCity</th>\n      <th>LengthofTrip</th>\n      <th>DestinationType</th>\n      <th>BookingType</th>\n      <th>Classification</th>\n      <th>MultiDestination</th>\n      <th>Origin</th>\n      <th>PackageType</th>\n      <th>PaymentPlan</th>\n      <th>TripCostPerPersonPerDay</th>\n      <th>BookingDate</th>\n      <th>TripStartDate</th>\n      <th>DaysBetweenBookingandTrip</th>\n      <th>TotalCost</th>\n      <th>BookingYear</th>\n      <th>BookingMonth</th>\n      <th>BookingDay</th>\n      <th>TripYear</th>\n      <th>TripMonth</th>\n      <th>TripDay</th>\n      <th>DayofWeekTripStart</th>\n      <th>CustomerName</th>\n      <th>CustomerEmail</th>\n      <th>CustomerCountry</th>\n      <th>CustomerContinent</th>\n      <th>CustomerAddress</th>\n      <th>CustomerCity</th>\n      <th>CustomerState</th>\n      <th>CustomerPostalCode</th>\n      <th>CustomerPhone</th>\n      <th>Gender</th>\n      <th>Age</th>\n      <th>MaritalStatus</th>\n      <th>Profession</th>\n      <th>EducationLevel</th>\n      <th>Income</th>\n      <th>MembersinHousehold</th>\n      <th>PetOwner</th>\n      <th>MonthBirth</th>\n      <th>MonthNumofBirth</th>\n      <th>OwnHome</th>\n      <th>RespondedtoPromo</th>\n      <th>SalesRep_ID</th>\n      <th>AgeBand</th>\n      <th>NumberofTrips</th>\n    </tr>\n  </thead>\n  <tbody>\n    <tr>\n      <th>0</th>\n      <td>30238</td>\n      <td>23</td>\n      <td>2</td>\n      <td>No</td>\n      <td>HND</td>\n      <td>Asia</td>\n      <td>Japan</td>\n      <td>Tokyo</td>\n      <td>12</td>\n      <td>Hotel</td>\n      <td>Office</td>\n      <td>Premium</td>\n      <td>N</td>\n      <td>BDL</td>\n      <td>Outdoors</td>\n      <td>N</td>\n      <td>439.50</td>\n      <td>10/15/14</td>\n      <td>3/13/15</td>\n      <td>149</td>\n      <td>10548.00</td>\n      <td>2014</td>\n      <td>10</td>\n      <td>15</td>\n      <td>2015</td>\n      <td>3</td>\n      <td>13</td>\n      <td>6</td>\n      <td>Adellea Addams</td>\n      <td>Adellea.Addams@yahoo.com</td>\n      <td>USA</td>\n      <td>NaN</td>\n      <td>15 Ludlow Ave #156</td>\n      <td>New York</td>\n      <td>NY</td>\n      <td>10001</td>\n      <td>212-480-9209</td>\n      <td>F</td>\n      <td>48</td>\n      <td>S</td>\n      <td>Pharmacist</td>\n      <td>Post College</td>\n      <td>112555.2</td>\n      <td>1</td>\n      <td>No</td>\n      <td>October</td>\n      <td>10</td>\n      <td>Yes</td>\n      <td>No</td>\n      <td>2</td>\n      <td>43 to 53</td>\n      <td>2</td>\n    </tr>\n    <tr>\n      <th>1</th>\n      <td>25243</td>\n      <td>23</td>\n      <td>5</td>\n      <td>No</td>\n      <td>BGI</td>\n      <td>Caribbean</td>\n      <td>Barbados</td>\n      <td>Seawell</td>\n      <td>11</td>\n      <td>Resort</td>\n      <td>Online</td>\n      <td>Luxury</td>\n      <td>N</td>\n      <td>MHT</td>\n      <td>Family</td>\n      <td>N</td>\n      <td>712.80</td>\n      <td>7/16/15</td>\n      <td>11/2/15</td>\n      <td>109</td>\n      <td>39204.00</td>\n      <td>2015</td>\n      <td>7</td>\n      <td>16</td>\n      <td>2015</td>\n      <td>11</td>\n      <td>2</td>\n      <td>2</td>\n      <td>Adellea Addams</td>\n      <td>Adellea.Addams@yahoo.com</td>\n      <td>USA</td>\n      <td>NaN</td>\n      <td>15 Ludlow Ave #156</td>\n      <td>New York</td>\n      <td>NY</td>\n      <td>10001</td>\n      <td>212-480-9209</td>\n      <td>F</td>\n      <td>48</td>\n      <td>S</td>\n      <td>Pharmacist</td>\n      <td>Post College</td>\n      <td>112555.2</td>\n      <td>1</td>\n      <td>No</td>\n      <td>October</td>\n      <td>10</td>\n      <td>Yes</td>\n      <td>No</td>\n      <td>2</td>\n      <td>43 to 53</td>\n      <td>2</td>\n    </tr>\n    <tr>\n      <th>2</th>\n      <td>44890</td>\n      <td>1</td>\n      <td>2</td>\n      <td>Yes</td>\n      <td>AKL</td>\n      <td>Aust</td>\n      <td>New Zealand</td>\n      <td>Auckland</td>\n      <td>6</td>\n      <td>Hotel</td>\n      <td>Online</td>\n      <td>Premium</td>\n      <td>Y</td>\n      <td>BOS</td>\n      <td>Outdoors</td>\n      <td>N</td>\n      <td>425.00</td>\n      <td>2/23/14</td>\n      <td>12/12/14</td>\n      <td>292</td>\n      <td>5100.00</td>\n      <td>2014</td>\n      <td>2</td>\n      <td>23</td>\n      <td>2014</td>\n      <td>12</td>\n      <td>12</td>\n      <td>6</td>\n      <td>Carla Abney</td>\n      <td>Carla.Abney@cox.net</td>\n      <td>USA</td>\n      <td>NaN</td>\n      <td>71 S Newtown St</td>\n      <td>Boston</td>\n      <td>MA</td>\n      <td>2210</td>\n      <td>617-203-6529</td>\n      <td>F</td>\n      <td>44</td>\n      <td>S</td>\n      <td>Teacher</td>\n      <td>College</td>\n      <td>43225.2</td>\n      <td>1</td>\n      <td>Yes</td>\n      <td>December</td>\n      <td>12</td>\n      <td>No</td>\n      <td>No</td>\n      <td>5</td>\n      <td>43 to 53</td>\n      <td>2</td>\n    </tr>\n    <tr>\n      <th>3</th>\n      <td>47200</td>\n      <td>1</td>\n      <td>1</td>\n      <td>No</td>\n      <td>DCA</td>\n      <td>NaN</td>\n      <td>USA</td>\n      <td>Washington DC</td>\n      <td>5</td>\n      <td>Resort</td>\n      <td>Online</td>\n      <td>Luxury</td>\n      <td>N</td>\n      <td>BOS</td>\n      <td>Outdoors</td>\n      <td>Y</td>\n      <td>559.98</td>\n      <td>11/5/14</td>\n      <td>12/25/14</td>\n      <td>50</td>\n      <td>2799.90</td>\n      <td>2014</td>\n      <td>11</td>\n      <td>5</td>\n      <td>2014</td>\n      <td>12</td>\n      <td>25</td>\n      <td>5</td>\n      <td>Carla Abney</td>\n      <td>Carla.Abney@cox.net</td>\n      <td>USA</td>\n      <td>NaN</td>\n      <td>71 S Newtown St</td>\n      <td>Boston</td>\n      <td>MA</td>\n      <td>2210</td>\n      <td>617-203-6529</td>\n      <td>F</td>\n      <td>44</td>\n      <td>S</td>\n      <td>Teacher</td>\n      <td>College</td>\n      <td>43225.2</td>\n      <td>1</td>\n      <td>Yes</td>\n      <td>December</td>\n      <td>12</td>\n      <td>No</td>\n      <td>No</td>\n      <td>5</td>\n      <td>43 to 53</td>\n      <td>2</td>\n    </tr>\n    <tr>\n      <th>4</th>\n      <td>29926</td>\n      <td>25</td>\n      <td>3</td>\n      <td>No</td>\n      <td>HNL</td>\n      <td>NaN</td>\n      <td>USA</td>\n      <td>Honolulu</td>\n      <td>4</td>\n      <td>Timeshare</td>\n      <td>Office</td>\n      <td>Premium</td>\n      <td>N</td>\n      <td>MHT</td>\n      <td>Outdoors</td>\n      <td>N</td>\n      <td>316.66</td>\n      <td>6/27/14</td>\n      <td>1/12/15</td>\n      <td>199</td>\n      <td>3799.92</td>\n      <td>2014</td>\n      <td>6</td>\n      <td>27</td>\n      <td>2015</td>\n      <td>1</td>\n      <td>12</td>\n      <td>2</td>\n      <td>Adria Addams</td>\n      <td>Adria.Addams@cox.net</td>\n      <td>USA</td>\n      <td>NaN</td>\n      <td>1 E Gabilan St</td>\n      <td>Boston</td>\n      <td>MA</td>\n      <td>2210</td>\n      <td>617-356-9602</td>\n      <td>F</td>\n      <td>32</td>\n      <td>U</td>\n      <td>Nursing</td>\n      <td>College</td>\n      <td>51396.0</td>\n      <td>2</td>\n      <td>No</td>\n      <td>June</td>\n      <td>6</td>\n      <td>No</td>\n      <td>No</td>\n      <td>4</td>\n      <td>32 to 42</td>\n      <td>2</td>\n    </tr>\n  </tbody>\n</table>\n</div>"
                    }
                }
            ], 
            "cell_type": "code", 
            "execution_count": 11, 
            "source": "print('Number of rows in joined = {}'.format(joined.CUST_ID.count()))\njoined.head()"
        }, 
        {
            "metadata": {}, 
            "cell_type": "markdown", 
            "source": "# Drop null values"
        }, 
        {
            "metadata": {}, 
            "outputs": [
                {
                    "output_type": "stream", 
                    "text": "Number of rows in joined = 23042\n", 
                    "name": "stdout"
                }
            ], 
            "cell_type": "code", 
            "execution_count": 12, 
            "source": "joined.drop('CustomerContinent', axis=1, inplace=True)\njoined.drop('DestinationContinent', axis=1, inplace=True)\njoined = joined.dropna(axis=0)\nprint('Number of rows in joined = {}'.format(joined.CUST_ID.count()))"
        }, 
        {
            "metadata": {}, 
            "cell_type": "markdown", 
            "source": "# Create a Return Customer Label"
        }, 
        {
            "metadata": {
                "collapsed": true
            }, 
            "outputs": [], 
            "cell_type": "code", 
            "execution_count": 13, 
            "source": "joined['ReturnCustomer'] = joined['NumberofTrips'].where((joined['NumberofTrips'] >= 2), 0)\njoined['ReturnCustomer'] = joined['ReturnCustomer'].where((joined['ReturnCustomer'] ==0), 1)"
        }, 
        {
            "metadata": {}, 
            "outputs": [
                {
                    "metadata": {}, 
                    "output_type": "execute_result", 
                    "execution_count": 14, 
                    "data": {
                        "text/plain": "       NumberofTrips  ReturnCustomer\n11823              1               0\n13387              2               1\n5246               2               1\n22908              1               0\n16862              2               1\n14647              3               1\n8871               1               0\n20641              1               0\n20473              1               0\n12051              3               1", 
                        "text/html": "<div>\n<style>\n    .dataframe thead tr:only-child th {\n        text-align: right;\n    }\n\n    .dataframe thead th {\n        text-align: left;\n    }\n\n    .dataframe tbody tr th {\n        vertical-align: top;\n    }\n</style>\n<table border=\"1\" class=\"dataframe\">\n  <thead>\n    <tr style=\"text-align: right;\">\n      <th></th>\n      <th>NumberofTrips</th>\n      <th>ReturnCustomer</th>\n    </tr>\n  </thead>\n  <tbody>\n    <tr>\n      <th>11823</th>\n      <td>1</td>\n      <td>0</td>\n    </tr>\n    <tr>\n      <th>13387</th>\n      <td>2</td>\n      <td>1</td>\n    </tr>\n    <tr>\n      <th>5246</th>\n      <td>2</td>\n      <td>1</td>\n    </tr>\n    <tr>\n      <th>22908</th>\n      <td>1</td>\n      <td>0</td>\n    </tr>\n    <tr>\n      <th>16862</th>\n      <td>2</td>\n      <td>1</td>\n    </tr>\n    <tr>\n      <th>14647</th>\n      <td>3</td>\n      <td>1</td>\n    </tr>\n    <tr>\n      <th>8871</th>\n      <td>1</td>\n      <td>0</td>\n    </tr>\n    <tr>\n      <th>20641</th>\n      <td>1</td>\n      <td>0</td>\n    </tr>\n    <tr>\n      <th>20473</th>\n      <td>1</td>\n      <td>0</td>\n    </tr>\n    <tr>\n      <th>12051</th>\n      <td>3</td>\n      <td>1</td>\n    </tr>\n  </tbody>\n</table>\n</div>"
                    }
                }
            ], 
            "cell_type": "code", 
            "execution_count": 14, 
            "source": "joined[['NumberofTrips', 'ReturnCustomer']].sample(n=10, random_state=1)"
        }, 
        {
            "metadata": {}, 
            "outputs": [
                {
                    "metadata": {}, 
                    "output_type": "execute_result", 
                    "execution_count": 15, 
                    "data": {
                        "text/plain": "1    13079\n0     9963\nName: ReturnCustomer, dtype: int64"
                    }
                }
            ], 
            "cell_type": "code", 
            "execution_count": 15, 
            "source": "# Confirm labels are not imbalanced\njoined['ReturnCustomer'].value_counts()"
        }, 
        {
            "metadata": {}, 
            "cell_type": "markdown", 
            "source": "# Bin Income"
        }, 
        {
            "metadata": {}, 
            "outputs": [
                {
                    "output_type": "stream", 
                    "text": "Minimum Income = $22149.60\nMaximum Income = $155852.40\n", 
                    "name": "stdout"
                }
            ], 
            "cell_type": "code", 
            "execution_count": 16, 
            "source": "print('Minimum Income = ${0:.2f}'.format(joined['Income'].min()))\nprint('Maximum Income = ${0:.2f}'.format(joined['Income'].max()))"
        }, 
        {
            "metadata": {}, 
            "outputs": [
                {
                    "output_type": "stream", 
                    "text": "Number of rows in joined = 23042\n", 
                    "name": "stdout"
                }, 
                {
                    "metadata": {}, 
                    "output_type": "execute_result", 
                    "execution_count": 17, 
                    "data": {
                        "text/plain": "         Income IncomeBin\n14429   89054.4         3\n16440   99667.2         3\n4832    49196.4         1\n19188   40300.8         1\n22712   80214.0         3\n4682   100389.6         4\n15622   47062.8         1\n6465   148550.4         5\n1628    87871.2         3\n9958    70168.8         2", 
                        "text/html": "<div>\n<style>\n    .dataframe thead tr:only-child th {\n        text-align: right;\n    }\n\n    .dataframe thead th {\n        text-align: left;\n    }\n\n    .dataframe tbody tr th {\n        vertical-align: top;\n    }\n</style>\n<table border=\"1\" class=\"dataframe\">\n  <thead>\n    <tr style=\"text-align: right;\">\n      <th></th>\n      <th>Income</th>\n      <th>IncomeBin</th>\n    </tr>\n  </thead>\n  <tbody>\n    <tr>\n      <th>14429</th>\n      <td>89054.4</td>\n      <td>3</td>\n    </tr>\n    <tr>\n      <th>16440</th>\n      <td>99667.2</td>\n      <td>3</td>\n    </tr>\n    <tr>\n      <th>4832</th>\n      <td>49196.4</td>\n      <td>1</td>\n    </tr>\n    <tr>\n      <th>19188</th>\n      <td>40300.8</td>\n      <td>1</td>\n    </tr>\n    <tr>\n      <th>22712</th>\n      <td>80214.0</td>\n      <td>3</td>\n    </tr>\n    <tr>\n      <th>4682</th>\n      <td>100389.6</td>\n      <td>4</td>\n    </tr>\n    <tr>\n      <th>15622</th>\n      <td>47062.8</td>\n      <td>1</td>\n    </tr>\n    <tr>\n      <th>6465</th>\n      <td>148550.4</td>\n      <td>5</td>\n    </tr>\n    <tr>\n      <th>1628</th>\n      <td>87871.2</td>\n      <td>3</td>\n    </tr>\n    <tr>\n      <th>9958</th>\n      <td>70168.8</td>\n      <td>2</td>\n    </tr>\n  </tbody>\n</table>\n</div>"
                    }
                }
            ], 
            "cell_type": "code", 
            "execution_count": 17, 
            "source": "bins = [22149, 50000, 75000, 100000, 130000, 155853]\nbinNames = [1, 2, 3, 4, 5]\njoined['IncomeBin'] = pd.cut(joined['Income'], bins, labels=binNames)\nprint('Number of rows in joined = {}'.format(joined.CUST_ID.count()))\njoined[['Income', 'IncomeBin']].sample(n=10, random_state=0)"
        }, 
        {
            "metadata": {}, 
            "cell_type": "markdown", 
            "source": "# Target only Package Types of Family, Outdoors, and Sightseeting"
        }, 
        {
            "metadata": {}, 
            "outputs": [
                {
                    "metadata": {}, 
                    "output_type": "execute_result", 
                    "execution_count": 18, 
                    "data": {
                        "text/plain": "       BookingID  PackageType\n5887       44174       Family\n21893      47451       Family\n19767       7161     Outdoors\n1188       54380  Sightseeing\n881        47497       Family\n4889        9650  Sightseeing\n14253      10479     Outdoors\n14292      56028  Sightseeing\n10597      65347     Outdoors\n21429      59885  Sightseeing", 
                        "text/html": "<div>\n<style>\n    .dataframe thead tr:only-child th {\n        text-align: right;\n    }\n\n    .dataframe thead th {\n        text-align: left;\n    }\n\n    .dataframe tbody tr th {\n        vertical-align: top;\n    }\n</style>\n<table border=\"1\" class=\"dataframe\">\n  <thead>\n    <tr style=\"text-align: right;\">\n      <th></th>\n      <th>BookingID</th>\n      <th>PackageType</th>\n    </tr>\n  </thead>\n  <tbody>\n    <tr>\n      <th>5887</th>\n      <td>44174</td>\n      <td>Family</td>\n    </tr>\n    <tr>\n      <th>21893</th>\n      <td>47451</td>\n      <td>Family</td>\n    </tr>\n    <tr>\n      <th>19767</th>\n      <td>7161</td>\n      <td>Outdoors</td>\n    </tr>\n    <tr>\n      <th>1188</th>\n      <td>54380</td>\n      <td>Sightseeing</td>\n    </tr>\n    <tr>\n      <th>881</th>\n      <td>47497</td>\n      <td>Family</td>\n    </tr>\n    <tr>\n      <th>4889</th>\n      <td>9650</td>\n      <td>Sightseeing</td>\n    </tr>\n    <tr>\n      <th>14253</th>\n      <td>10479</td>\n      <td>Outdoors</td>\n    </tr>\n    <tr>\n      <th>14292</th>\n      <td>56028</td>\n      <td>Sightseeing</td>\n    </tr>\n    <tr>\n      <th>10597</th>\n      <td>65347</td>\n      <td>Outdoors</td>\n    </tr>\n    <tr>\n      <th>21429</th>\n      <td>59885</td>\n      <td>Sightseeing</td>\n    </tr>\n  </tbody>\n</table>\n</div>"
                    }
                }
            ], 
            "cell_type": "code", 
            "execution_count": 18, 
            "source": "joined = joined[(joined['PackageType']=='Outdoors')|(joined['PackageType']=='Family')|(joined['PackageType']=='Sightseeing')]\njoined[['BookingID','PackageType']].sample(n=10, random_state=1)"
        }, 
        {
            "metadata": {}, 
            "cell_type": "markdown", 
            "source": "# Drop Columns not being used as Features"
        }, 
        {
            "metadata": {
                "collapsed": true
            }, 
            "outputs": [], 
            "cell_type": "code", 
            "execution_count": 19, 
            "source": "dropCols = (['BookingID', 'CUST_ID', 'BookingDate', 'TripStartDate', 'CustomerName', 'CustomerEmail', 'CustomerAddress', 'CustomerPhone', 'Age', \n             'NumberofTrips'])\njoined.drop(dropCols, axis=1, inplace=True)"
        }, 
        {
            "metadata": {}, 
            "cell_type": "markdown", 
            "source": "# Convert numeric data to integer (some numeric columns were inferred as float64)"
        }, 
        {
            "metadata": {}, 
            "outputs": [
                {
                    "metadata": {}, 
                    "output_type": "execute_result", 
                    "execution_count": 20, 
                    "data": {
                        "text/plain": "{'Income': 'int', 'TotalCost': 'int', 'TripCostPerPersonPerDay': 'int'}"
                    }
                }
            ], 
            "cell_type": "code", 
            "execution_count": 20, 
            "source": "joinedColNames = joined.columns.values.tolist()\nintList = []\nfloatCols = []\nfor col in joinedColNames:\n    if joined[col].dtypes == 'float64':\n        floatCols.append(col)\n        intList.append('int')\n# Create a dictionary that will be used to set the numeric columns to integer type\nintDict = dict(zip(floatCols, intList))\nintDict"
        }, 
        {
            "metadata": {
                "collapsed": true
            }, 
            "outputs": [], 
            "cell_type": "code", 
            "execution_count": 21, 
            "source": "# Convert the numeric columns to integer\njoined = joined.astype(intDict)\n# All numeric data is now int64"
        }, 
        {
            "metadata": {}, 
            "cell_type": "markdown", 
            "source": "# Encode the string data"
        }, 
        {
            "metadata": {}, 
            "outputs": [
                {
                    "metadata": {}, 
                    "output_type": "execute_result", 
                    "execution_count": 22, 
                    "data": {
                        "text/plain": "array(['TravelingParty', 'TripDelay', 'DestinationAirportCode',\n       'DestinationCountry', 'DestinationCity', 'LengthofTrip',\n       'DestinationType', 'BookingType', 'Classification',\n       'MultiDestination', 'Origin', 'PackageType', 'PaymentPlan',\n       'TripCostPerPersonPerDay', 'DaysBetweenBookingandTrip', 'TotalCost',\n       'BookingYear', 'BookingMonth', 'BookingDay', 'TripYear',\n       'TripMonth', 'TripDay', 'DayofWeekTripStart', 'CustomerCountry',\n       'CustomerCity', 'CustomerState', 'CustomerPostalCode', 'Gender',\n       'MaritalStatus', 'Profession', 'EducationLevel', 'Income',\n       'MembersinHousehold', 'PetOwner', 'MonthBirth', 'MonthNumofBirth',\n       'OwnHome', 'RespondedtoPromo', 'SalesRep_ID', 'AgeBand',\n       'ReturnCustomer', 'IncomeBin'], dtype=object)"
                    }
                }
            ], 
            "cell_type": "code", 
            "execution_count": 22, 
            "source": "joined.columns.values"
        }, 
        {
            "metadata": {
                "collapsed": true
            }, 
            "outputs": [], 
            "cell_type": "code", 
            "execution_count": 23, 
            "source": "# Import LabelEncoder and initialize it\nfrom sklearn.preprocessing import LabelEncoder\nlenc=LabelEncoder()\n# Encode the entire DataFrame before splitting the data into training and test sets\njoinedColNames = joined.columns.values.tolist()\nfor col in joinedColNames:\n    # Encode only the categorical columns\n    if joined[col].dtypes == 'object':\n        lenc.fit(joined[col])\n        joined[col+'.t']=lenc.transform(joined[col])\n        joined = joined.drop(col, axis = 1)\njoined.rename(columns=lambda x: x.replace('.t', ''), inplace=True)"
        }, 
        {
            "metadata": {}, 
            "cell_type": "markdown", 
            "source": "# Scale the features"
        }, 
        {
            "metadata": {
                "collapsed": true
            }, 
            "outputs": [], 
            "cell_type": "code", 
            "execution_count": 24, 
            "source": "joinedColFeatures = joined.columns.values.tolist()\njoinedColFeatures.remove('ReturnCustomer')"
        }, 
        {
            "metadata": {
                "collapsed": true
            }, 
            "outputs": [], 
            "cell_type": "code", 
            "execution_count": 25, 
            "source": "from sklearn.preprocessing import MinMaxScaler\nscaler = MinMaxScaler()\njoined[joinedColFeatures] = scaler.fit_transform(joined[joinedColFeatures])"
        }, 
        {
            "metadata": {}, 
            "cell_type": "markdown", 
            "source": "# Prepare the data for machine learning"
        }, 
        {
            "metadata": {
                "collapsed": true
            }, 
            "outputs": [], 
            "cell_type": "code", 
            "execution_count": 26, 
            "source": "# Create features and label dataframes\nX = joined.drop('ReturnCustomer', axis = 1)\ny = joined.ReturnCustomer"
        }, 
        {
            "metadata": {}, 
            "outputs": [
                {
                    "metadata": {}, 
                    "output_type": "execute_result", 
                    "execution_count": 27, 
                    "data": {
                        "text/plain": "       TravelingParty  LengthofTrip  TripCostPerPersonPerDay  \\\n1172         0.857143           0.8                 0.039246   \n2305         0.285714           0.2                 0.054945   \n17709        0.428571           0.4                 0.193093   \n12158        0.142857           0.8                 0.171900   \n14548        0.000000           0.2                 0.740188   \n\n       DaysBetweenBookingandTrip  TotalCost  BookingYear  BookingMonth  \\\n1172                    0.869841   0.074455          0.5      0.545455   \n2305                    0.638095   0.015577          0.0      0.818182   \n17709                   0.053968   0.072210          0.5      0.545455   \n12158                   0.479365   0.051375          0.5      0.636364   \n14548                   0.692063   0.040802          0.5      0.909091   \n\n       BookingDay  TripYear  TripMonth   TripDay  DayofWeekTripStart  \\\n1172     0.166667       1.0   0.363636  0.633333            0.833333   \n2305     0.066667       0.5   0.454545  0.166667            1.000000   \n17709    0.966667       0.5   0.727273  0.966667            0.500000   \n12158    0.133333       1.0   0.090909  0.533333            0.500000   \n14548    0.233333       1.0   0.545455  0.900000            0.666667   \n\n       CustomerPostalCode    Income  MembersinHousehold  MonthNumofBirth  \\\n1172             0.627776  0.543653                 0.8         0.727273   \n2305             1.000000  0.174790                 0.6         0.454545   \n17709            0.000000  0.571221                 0.8         0.272727   \n12158            0.499422  0.518246                 0.0         0.909091   \n14548            0.627776  0.702445                 0.0         0.909091   \n\n       SalesRep_ID  IncomeBin  TripDelay  DestinationAirportCode  \\\n1172      0.285714       0.50        0.0                0.800000   \n2305      0.571429       0.00        0.0                0.000000   \n17709     0.214286       0.50        1.0                0.866667   \n12158     0.285714       0.50        0.0                0.066667   \n14548     0.142857       0.75        1.0                0.133333   \n\n       DestinationCountry  DestinationCity  DestinationType  BookingType  \\\n1172                  1.0         0.466667         1.000000          0.5   \n2305                  0.6         0.000000         1.000000          1.0   \n17709                 0.9         0.400000         0.333333          0.5   \n12158                 0.0         0.866667         0.666667          0.5   \n14548                 0.3         0.666667         1.000000          0.5   \n\n       Classification  MultiDestination    Origin  PackageType  PaymentPlan  \\\n1172              1.0               1.0  0.428571          0.0          1.0   \n2305              1.0               1.0  1.000000          0.0          0.0   \n17709             0.5               0.0  0.142857          0.5          0.0   \n12158             0.5               1.0  0.000000          1.0          0.0   \n14548             0.0               0.0  0.285714          1.0          0.0   \n\n       CustomerCountry  CustomerCity  CustomerState  Gender  MaritalStatus  \\\n1172               0.0           0.8            0.6     1.0            0.5   \n2305               0.0           0.6            0.8     0.0            0.5   \n17709              0.0           0.0            0.2     1.0            0.0   \n12158              0.0           0.2            0.0     0.0            0.5   \n14548              0.0           0.8            0.6     1.0            0.5   \n\n       Profession  EducationLevel  PetOwner  MonthBirth  OwnHome  \\\n1172     0.692308             0.0       0.0    1.000000      1.0   \n2305     0.230769             1.0       0.0    0.545455      1.0   \n17709    0.230769             1.0       1.0    0.000000      0.0   \n12158    0.923077             0.0       0.0    0.818182      1.0   \n14548    0.076923             0.0       1.0    0.818182      1.0   \n\n       RespondedtoPromo  AgeBand  \n1172                1.0     0.00  \n2305                0.0     0.25  \n17709               0.0     0.25  \n12158               1.0     0.25  \n14548               0.0     0.50  ", 
                        "text/html": "<div>\n<style>\n    .dataframe thead tr:only-child th {\n        text-align: right;\n    }\n\n    .dataframe thead th {\n        text-align: left;\n    }\n\n    .dataframe tbody tr th {\n        vertical-align: top;\n    }\n</style>\n<table border=\"1\" class=\"dataframe\">\n  <thead>\n    <tr style=\"text-align: right;\">\n      <th></th>\n      <th>TravelingParty</th>\n      <th>LengthofTrip</th>\n      <th>TripCostPerPersonPerDay</th>\n      <th>DaysBetweenBookingandTrip</th>\n      <th>TotalCost</th>\n      <th>BookingYear</th>\n      <th>BookingMonth</th>\n      <th>BookingDay</th>\n      <th>TripYear</th>\n      <th>TripMonth</th>\n      <th>TripDay</th>\n      <th>DayofWeekTripStart</th>\n      <th>CustomerPostalCode</th>\n      <th>Income</th>\n      <th>MembersinHousehold</th>\n      <th>MonthNumofBirth</th>\n      <th>SalesRep_ID</th>\n      <th>IncomeBin</th>\n      <th>TripDelay</th>\n      <th>DestinationAirportCode</th>\n      <th>DestinationCountry</th>\n      <th>DestinationCity</th>\n      <th>DestinationType</th>\n      <th>BookingType</th>\n      <th>Classification</th>\n      <th>MultiDestination</th>\n      <th>Origin</th>\n      <th>PackageType</th>\n      <th>PaymentPlan</th>\n      <th>CustomerCountry</th>\n      <th>CustomerCity</th>\n      <th>CustomerState</th>\n      <th>Gender</th>\n      <th>MaritalStatus</th>\n      <th>Profession</th>\n      <th>EducationLevel</th>\n      <th>PetOwner</th>\n      <th>MonthBirth</th>\n      <th>OwnHome</th>\n      <th>RespondedtoPromo</th>\n      <th>AgeBand</th>\n    </tr>\n  </thead>\n  <tbody>\n    <tr>\n      <th>1172</th>\n      <td>0.857143</td>\n      <td>0.8</td>\n      <td>0.039246</td>\n      <td>0.869841</td>\n      <td>0.074455</td>\n      <td>0.5</td>\n      <td>0.545455</td>\n      <td>0.166667</td>\n      <td>1.0</td>\n      <td>0.363636</td>\n      <td>0.633333</td>\n      <td>0.833333</td>\n      <td>0.627776</td>\n      <td>0.543653</td>\n      <td>0.8</td>\n      <td>0.727273</td>\n      <td>0.285714</td>\n      <td>0.50</td>\n      <td>0.0</td>\n      <td>0.800000</td>\n      <td>1.0</td>\n      <td>0.466667</td>\n      <td>1.000000</td>\n      <td>0.5</td>\n      <td>1.0</td>\n      <td>1.0</td>\n      <td>0.428571</td>\n      <td>0.0</td>\n      <td>1.0</td>\n      <td>0.0</td>\n      <td>0.8</td>\n      <td>0.6</td>\n      <td>1.0</td>\n      <td>0.5</td>\n      <td>0.692308</td>\n      <td>0.0</td>\n      <td>0.0</td>\n      <td>1.000000</td>\n      <td>1.0</td>\n      <td>1.0</td>\n      <td>0.00</td>\n    </tr>\n    <tr>\n      <th>2305</th>\n      <td>0.285714</td>\n      <td>0.2</td>\n      <td>0.054945</td>\n      <td>0.638095</td>\n      <td>0.015577</td>\n      <td>0.0</td>\n      <td>0.818182</td>\n      <td>0.066667</td>\n      <td>0.5</td>\n      <td>0.454545</td>\n      <td>0.166667</td>\n      <td>1.000000</td>\n      <td>1.000000</td>\n      <td>0.174790</td>\n      <td>0.6</td>\n      <td>0.454545</td>\n      <td>0.571429</td>\n      <td>0.00</td>\n      <td>0.0</td>\n      <td>0.000000</td>\n      <td>0.6</td>\n      <td>0.000000</td>\n      <td>1.000000</td>\n      <td>1.0</td>\n      <td>1.0</td>\n      <td>1.0</td>\n      <td>1.000000</td>\n      <td>0.0</td>\n      <td>0.0</td>\n      <td>0.0</td>\n      <td>0.6</td>\n      <td>0.8</td>\n      <td>0.0</td>\n      <td>0.5</td>\n      <td>0.230769</td>\n      <td>1.0</td>\n      <td>0.0</td>\n      <td>0.545455</td>\n      <td>1.0</td>\n      <td>0.0</td>\n      <td>0.25</td>\n    </tr>\n    <tr>\n      <th>17709</th>\n      <td>0.428571</td>\n      <td>0.4</td>\n      <td>0.193093</td>\n      <td>0.053968</td>\n      <td>0.072210</td>\n      <td>0.5</td>\n      <td>0.545455</td>\n      <td>0.966667</td>\n      <td>0.5</td>\n      <td>0.727273</td>\n      <td>0.966667</td>\n      <td>0.500000</td>\n      <td>0.000000</td>\n      <td>0.571221</td>\n      <td>0.8</td>\n      <td>0.272727</td>\n      <td>0.214286</td>\n      <td>0.50</td>\n      <td>1.0</td>\n      <td>0.866667</td>\n      <td>0.9</td>\n      <td>0.400000</td>\n      <td>0.333333</td>\n      <td>0.5</td>\n      <td>0.5</td>\n      <td>0.0</td>\n      <td>0.142857</td>\n      <td>0.5</td>\n      <td>0.0</td>\n      <td>0.0</td>\n      <td>0.0</td>\n      <td>0.2</td>\n      <td>1.0</td>\n      <td>0.0</td>\n      <td>0.230769</td>\n      <td>1.0</td>\n      <td>1.0</td>\n      <td>0.000000</td>\n      <td>0.0</td>\n      <td>0.0</td>\n      <td>0.25</td>\n    </tr>\n    <tr>\n      <th>12158</th>\n      <td>0.142857</td>\n      <td>0.8</td>\n      <td>0.171900</td>\n      <td>0.479365</td>\n      <td>0.051375</td>\n      <td>0.5</td>\n      <td>0.636364</td>\n      <td>0.133333</td>\n      <td>1.0</td>\n      <td>0.090909</td>\n      <td>0.533333</td>\n      <td>0.500000</td>\n      <td>0.499422</td>\n      <td>0.518246</td>\n      <td>0.0</td>\n      <td>0.909091</td>\n      <td>0.285714</td>\n      <td>0.50</td>\n      <td>0.0</td>\n      <td>0.066667</td>\n      <td>0.0</td>\n      <td>0.866667</td>\n      <td>0.666667</td>\n      <td>0.5</td>\n      <td>0.5</td>\n      <td>1.0</td>\n      <td>0.000000</td>\n      <td>1.0</td>\n      <td>0.0</td>\n      <td>0.0</td>\n      <td>0.2</td>\n      <td>0.0</td>\n      <td>0.0</td>\n      <td>0.5</td>\n      <td>0.923077</td>\n      <td>0.0</td>\n      <td>0.0</td>\n      <td>0.818182</td>\n      <td>1.0</td>\n      <td>1.0</td>\n      <td>0.25</td>\n    </tr>\n    <tr>\n      <th>14548</th>\n      <td>0.000000</td>\n      <td>0.2</td>\n      <td>0.740188</td>\n      <td>0.692063</td>\n      <td>0.040802</td>\n      <td>0.5</td>\n      <td>0.909091</td>\n      <td>0.233333</td>\n      <td>1.0</td>\n      <td>0.545455</td>\n      <td>0.900000</td>\n      <td>0.666667</td>\n      <td>0.627776</td>\n      <td>0.702445</td>\n      <td>0.0</td>\n      <td>0.909091</td>\n      <td>0.142857</td>\n      <td>0.75</td>\n      <td>1.0</td>\n      <td>0.133333</td>\n      <td>0.3</td>\n      <td>0.666667</td>\n      <td>1.000000</td>\n      <td>0.5</td>\n      <td>0.0</td>\n      <td>0.0</td>\n      <td>0.285714</td>\n      <td>1.0</td>\n      <td>0.0</td>\n      <td>0.0</td>\n      <td>0.8</td>\n      <td>0.6</td>\n      <td>1.0</td>\n      <td>0.5</td>\n      <td>0.076923</td>\n      <td>0.0</td>\n      <td>1.0</td>\n      <td>0.818182</td>\n      <td>1.0</td>\n      <td>0.0</td>\n      <td>0.50</td>\n    </tr>\n  </tbody>\n</table>\n</div>"
                    }
                }
            ], 
            "cell_type": "code", 
            "execution_count": 27, 
            "source": "# Sample the indexed DataFrame\nX.sample(n=5, random_state=2)"
        }, 
        {
            "metadata": {}, 
            "cell_type": "markdown", 
            "source": "# Create training and test datasets\u00b6"
        }, 
        {
            "metadata": {
                "collapsed": true
            }, 
            "outputs": [], 
            "cell_type": "code", 
            "execution_count": 28, 
            "source": "# split X and y into training and testing sets\nfrom sklearn.model_selection import train_test_split\nX_train, X_test, y_train, y_test = train_test_split(X, y, train_size=0.9, random_state=0)"
        }, 
        {
            "metadata": {}, 
            "outputs": [
                {
                    "output_type": "stream", 
                    "text": "Number of rows in X_train is 11408.\nNumber of rows in X_test is 1268.\nNumber of rows in y_train is 11408.\nNumber of rows in y_test is 1268.\n", 
                    "name": "stdout"
                }
            ], 
            "cell_type": "code", 
            "execution_count": 29, 
            "source": "# Show the number of rows in each data set\nprint('Number of rows in X_train is {}.'.format(X_train.shape[0]))\nprint('Number of rows in X_test is {}.'.format(X_test.shape[0]))\nprint('Number of rows in y_train is {}.'.format(y_train.shape[0]))\nprint('Number of rows in y_test is {}.'.format(y_test.shape[0]))"
        }, 
        {
            "metadata": {}, 
            "cell_type": "markdown", 
            "source": "# Train the model"
        }, 
        {
            "metadata": {
                "collapsed": true
            }, 
            "outputs": [], 
            "cell_type": "code", 
            "execution_count": 30, 
            "source": "#import required modules from the scikit-learn metrics package\nfrom sklearn.metrics import accuracy_score, confusion_matrix, roc_curve, roc_auc_score"
        }, 
        {
            "metadata": {
                "collapsed": true
            }, 
            "outputs": [], 
            "cell_type": "code", 
            "execution_count": 31, 
            "source": "# setup for plotting\nimport matplotlib.pyplot as plt\n%matplotlib inline"
        }, 
        {
            "metadata": {}, 
            "outputs": [
                {
                    "metadata": {}, 
                    "output_type": "execute_result", 
                    "execution_count": 32, 
                    "data": {
                        "text/plain": "LogisticRegression(C=1.0, class_weight=None, dual=False, fit_intercept=True,\n          intercept_scaling=1, max_iter=100, multi_class='ovr', n_jobs=1,\n          penalty='l2', random_state=None, solver='liblinear', tol=0.0001,\n          verbose=0, warm_start=False)"
                    }
                }
            ], 
            "cell_type": "code", 
            "execution_count": 32, 
            "source": "#Logistic Regression Model\nfrom sklearn.linear_model import LogisticRegression\nlreg=LogisticRegression()\nlreg.fit(X_train, y_train)"
        }, 
        {
            "metadata": {}, 
            "cell_type": "markdown", 
            "source": "# Check model accuracy"
        }, 
        {
            "metadata": {}, 
            "outputs": [
                {
                    "output_type": "stream", 
                    "text": "Accuracy score for Logistic Regression = 0.74\n", 
                    "name": "stdout"
                }
            ], 
            "cell_type": "code", 
            "execution_count": 33, 
            "source": "# Check the Logistic Regression model accuracy\ny_pred = lreg.predict(X_test)\nprint('Accuracy score for Logistic Regression = {:.2f}'.format(accuracy_score(y_test,y_pred)))"
        }, 
        {
            "metadata": {}, 
            "outputs": [
                {
                    "output_type": "stream", 
                    "text": "[[360 203]\n [122 583]]\n", 
                    "name": "stdout"
                }
            ], 
            "cell_type": "code", 
            "execution_count": 34, 
            "source": "# Print the confusion matrix for Logistic Regression analysis\ncm = confusion_matrix(y_test, y_pred)\nprint(cm)"
        }, 
        {
            "metadata": {}, 
            "outputs": [
                {
                    "metadata": {}, 
                    "output_type": "display_data", 
                    "data": {
                        "text/plain": "<matplotlib.figure.Figure at 0x7f7f1ac51a20>", 
                        "image/png": "[encoded data removed]"
                    }
                }
            ], 
            "cell_type": "code", 
            "execution_count": 35, 
            "source": "# Plot the confusion matrix\nplt.matshow(cm)\nplt.title('Confusion matrix')\nplt.colorbar()\nplt.ylabel('True label')\nplt.xlabel('Predicted label')\nplt.show()"
        }, 
        {
            "metadata": {}, 
            "outputs": [
                {
                    "metadata": {}, 
                    "output_type": "display_data", 
                    "data": {
                        "text/plain": "<matplotlib.figure.Figure at 0x7f7f1ad874a8>", 
                        "image/png": "[encoded data removed]"
                    }
                }
            ], 
            "cell_type": "code", 
            "execution_count": 36, 
            "source": "# Plot the ROC curve\nfpr, tpr, thresholds = roc_curve(y_test, y_pred)\nplt.plot(fpr, tpr)\nplt.xlim([0.0, 1.0])\nplt.ylim([0.0, 1.0])\nplt.title('ROC curve (Logistic Regression)')\nplt.xlabel('False Positive Rate')\nplt.ylabel('True Positive Rate')\nplt.grid(True)"
        }, 
        {
            "metadata": {}, 
            "outputs": [
                {
                    "output_type": "stream", 
                    "text": "AUC using Logistic Regression = 0.73\n", 
                    "name": "stdout"
                }
            ], 
            "cell_type": "code", 
            "execution_count": 37, 
            "source": "# Print out AUC, the percentage of the ROC plot that is underneath the curve\nprint('AUC using Logistic Regression = {:.2f}'.format(roc_auc_score(y_test, y_pred)))"
        }, 
        {
            "metadata": {}, 
            "outputs": [
                {
                    "output_type": "stream", 
                    "text": "Cross-validated AUC for Logistic Regression = 0.81\n", 
                    "name": "stdout"
                }
            ], 
            "cell_type": "code", 
            "execution_count": 38, 
            "source": "# calculate cross-validated AUC\nfrom sklearn.model_selection import cross_val_score\n# 10-fold cross-validation for Logistic Regression\nlreg_avg_cross_val_score = cross_val_score(lreg, X, y, cv=10, scoring='roc_auc').mean()\nprint('Cross-validated AUC for Logistic Regression = {:.2f}'.format(lreg_avg_cross_val_score))"
        }, 
        {
            "metadata": {}, 
            "cell_type": "markdown", 
            "source": "# Hyperparamater Tuning\u00b6"
        }, 
        {
            "metadata": {
                "collapsed": true
            }, 
            "outputs": [], 
            "cell_type": "code", 
            "execution_count": 39, 
            "source": "from sklearn.model_selection import GridSearchCV"
        }, 
        {
            "metadata": {
                "collapsed": true
            }, 
            "outputs": [], 
            "cell_type": "code", 
            "execution_count": 40, 
            "source": "# create lists of the parameter values that should be searched\n# The penalty parameter is used to specify the norm used in the penalization\npenaltyList = ['l1', 'l2']\n#The C parameter is the inverse of regularization strength, must be a positive float, smaller values specify stronger regularization\nCrange = [float(i)/10 for i in (list(range(1,10,1)))]\n#Created a range of positive, float C values to search"
        }, 
        {
            "metadata": {}, 
            "outputs": [
                {
                    "output_type": "stream", 
                    "text": "{'C': [0.1, 0.2, 0.3, 0.4, 0.5, 0.6, 0.7, 0.8, 0.9], 'penalty': ['l1', 'l2']}\n", 
                    "name": "stdout"
                }
            ], 
            "cell_type": "code", 
            "execution_count": 41, 
            "source": "# create a parameter grid by mapping the parameter names to the values/list that should be searched\nparam_grid = dict(penalty = penaltyList, C = Crange)\nprint(param_grid)"
        }, 
        {
            "metadata": {}, 
            "outputs": [
                {
                    "metadata": {}, 
                    "output_type": "execute_result", 
                    "execution_count": 42, 
                    "data": {
                        "text/plain": "GridSearchCV(cv=3, error_score='raise',\n       estimator=LogisticRegression(C=1.0, class_weight=None, dual=False, fit_intercept=True,\n          intercept_scaling=1, max_iter=100, multi_class='ovr', n_jobs=1,\n          penalty='l2', random_state=None, solver='liblinear', tol=0.0001,\n          verbose=0, warm_start=False),\n       fit_params={}, iid=True, n_jobs=1,\n       param_grid={'C': [0.1, 0.2, 0.3, 0.4, 0.5, 0.6, 0.7, 0.8, 0.9], 'penalty': ['l1', 'l2']},\n       pre_dispatch='2*n_jobs', refit=True, return_train_score=True,\n       scoring='roc_auc', verbose=0)"
                    }
                }
            ], 
            "cell_type": "code", 
            "execution_count": 42, 
            "source": "# instantiate and fit the grid\ngrid = GridSearchCV(lreg, param_grid, cv=3, scoring='roc_auc')\ngrid.fit(X, y)"
        }, 
        {
            "metadata": {}, 
            "outputs": [
                {
                    "output_type": "stream", 
                    "text": "Best AUC for Logistic Regression = 0.81\n\nParameters for Best AUC for Logistic Regression = {'C': 0.1, 'penalty': 'l1'}\n\nFull list of paramemters for best estimator for Logistic Regression:\n LogisticRegression(C=0.1, class_weight=None, dual=False, fit_intercept=True,\n          intercept_scaling=1, max_iter=100, multi_class='ovr', n_jobs=1,\n          penalty='l1', random_state=None, solver='liblinear', tol=0.0001,\n          verbose=0, warm_start=False)\n", 
                    "name": "stdout"
                }
            ], 
            "cell_type": "code", 
            "execution_count": 43, 
            "source": "# examine the best model\nprint('Best AUC for Logistic Regression = {:.2f}'.format(grid.best_score_))\nprint('')\nprint('Parameters for Best AUC for Logistic Regression = {}'.format(grid.best_params_))\nprint('')\nprint('Full list of paramemters for best estimator for Logistic Regression:\\n {}'.format(grid.best_estimator_))"
        }, 
        {
            "metadata": {
                "collapsed": true
            }, 
            "cell_type": "markdown", 
            "source": "# Voting Ensemble\n### May take a number of minutes to run"
        }, 
        {
            "metadata": {
                "collapsed": true
            }, 
            "outputs": [], 
            "cell_type": "code", 
            "execution_count": 44, 
            "source": "from sklearn import model_selection\nfrom sklearn.model_selection import KFold\nfrom sklearn.model_selection import cross_val_score\nfrom sklearn.linear_model import LogisticRegression\nfrom sklearn.tree import DecisionTreeClassifier\nfrom sklearn.svm import SVC\nfrom sklearn.ensemble import VotingClassifier"
        }, 
        {
            "metadata": {}, 
            "outputs": [
                {
                    "output_type": "stream", 
                    "text": "Voting Results = 0.70\n", 
                    "name": "stdout"
                }
            ], 
            "cell_type": "code", 
            "execution_count": 45, 
            "source": "# define the underlying models\nestimators = []\nlrModel = LogisticRegression()\nestimators.append(('lr', lrModel))\ndtcModel = DecisionTreeClassifier()\nestimators.append(('dtc', dtcModel))\nsvcModel = SVC(probability=True)\nestimators.append(('svc', svcModel))\n# create the ensemble model\nensemble = VotingClassifier(estimators, voting='soft')\nkfold = KFold(n_splits=3, random_state=0)\nvotingResults = cross_val_score(ensemble, X, y, cv=kfold)\nprint('Voting Results = {:.2f}'.format(votingResults.mean()))"
        }, 
        {
            "metadata": {}, 
            "outputs": [
                {
                    "metadata": {}, 
                    "output_type": "execute_result", 
                    "execution_count": 46, 
                    "data": {
                        "text/plain": "VotingClassifier(estimators=[('lr', LogisticRegression(C=1.0, class_weight=None, dual=False, fit_intercept=True,\n          intercept_scaling=1, max_iter=100, multi_class='ovr', n_jobs=1,\n          penalty='l2', random_state=None, solver='liblinear', tol=0.0001,\n          verbose=0, warm_start=False)), ('dtc', Decisi...',\n  max_iter=-1, probability=True, random_state=None, shrinking=True,\n  tol=0.001, verbose=False))],\n         n_jobs=1, voting='soft', weights=None)"
                    }
                }
            ], 
            "cell_type": "code", 
            "execution_count": 46, 
            "source": "ensemble.fit(X, y)"
        }, 
        {
            "metadata": {}, 
            "cell_type": "markdown", 
            "source": "# Prediction Probabilities"
        }, 
        {
            "metadata": {}, 
            "outputs": [
                {
                    "metadata": {}, 
                    "output_type": "execute_result", 
                    "execution_count": 47, 
                    "data": {
                        "text/plain": "array([[ 0.15062672,  0.84937328],\n       [ 0.13526652,  0.86473348],\n       [ 0.89565896,  0.10434104],\n       ..., \n       [ 0.12042722,  0.87957278],\n       [ 0.12543433,  0.87456567],\n       [ 0.88289477,  0.11710523]])"
                    }
                }
            ], 
            "cell_type": "code", 
            "execution_count": 47, 
            "source": "grid.predict_proba(X)"
        }, 
        {
            "metadata": {}, 
            "outputs": [
                {
                    "metadata": {}, 
                    "output_type": "execute_result", 
                    "execution_count": 48, 
                    "data": {
                        "text/plain": "array([[ 0.10299088,  0.89700912],\n       [ 0.10214194,  0.89785806],\n       [ 0.59788207,  0.40211793],\n       ..., \n       [ 0.08235846,  0.91764154],\n       [ 0.08493713,  0.91506287],\n       [ 0.91734911,  0.08265089]])"
                    }
                }
            ], 
            "cell_type": "code", 
            "execution_count": 48, 
            "source": "ensemble.predict_proba(X)"
        }, 
        {
            "metadata": {
                "collapsed": true
            }, 
            "outputs": [], 
            "cell_type": "code", 
            "execution_count": 49, 
            "source": "# Concatenate features and label back together\nresults = pd.concat([X, y], axis=1)\n# Only probability of label return\nresults[\"probabilityOfReturn\"] = grid.predict_proba(X)[:,1]"
        }, 
        {
            "metadata": {}, 
            "outputs": [
                {
                    "metadata": {}, 
                    "output_type": "execute_result", 
                    "execution_count": 50, 
                    "data": {
                        "text/plain": "    TravelingParty  LengthofTrip  TripCostPerPersonPerDay  \\\n0         0.142857           0.9                 0.291994   \n1         0.571429           0.8                 0.506279   \n2         0.142857           0.3                 0.281005   \n3         0.000000           0.2                 0.386185   \n4         0.285714           0.1                 0.195447   \n5         0.000000           0.7                 0.310832   \n8         0.285714           0.2                 0.247253   \n10        0.571429           0.1                 0.213501   \n13        0.428571           0.3                 0.208791   \n14        0.285714           1.0                 0.156986   \n17        0.142857           0.3                 0.505495   \n19        0.000000           0.2                 0.124019   \n20        0.428571           0.2                 0.257457   \n21        0.428571           0.3                 0.267661   \n22        0.857143           0.1                 0.197802   \n23        0.857143           0.2                 0.312402   \n24        0.857143           0.6                 0.189168   \n25        0.857143           0.9                 0.543171   \n28        0.428571           0.2                 0.050235   \n29        0.142857           0.2                 0.123234   \n\n    DaysBetweenBookingandTrip  TotalCost  BookingYear  BookingMonth  \\\n0                    0.330159   0.087013          0.0      0.818182   \n1                    0.203175   0.328043          0.5      0.545455   \n2                    0.784127   0.041189          0.0      0.090909   \n3                    0.015873   0.021835          0.0      0.909091   \n4                    0.488889   0.030246          0.0      0.454545   \n5                    0.800000   0.037287          0.5      0.363636   \n8                    0.063492   0.046606          0.5      0.909091   \n10                   0.044444   0.055320          0.5      0.181818   \n13                   0.111111   0.065531          0.5      0.272727   \n14                   0.174603   0.085911          0.0      0.545455   \n17                   0.273016   0.070098          0.0      0.818182   \n19                   0.990476   0.007763          0.5      0.818182   \n20                   0.704762   0.064799          0.0      0.000000   \n21                   0.507937   0.080654          0.5      0.909091   \n22                   0.073016   0.073463          0.0      0.272727   \n23                   0.980952   0.135335          0.5      0.636364   \n24                   0.066667   0.161738          0.0      0.363636   \n25                   0.777778   0.534805          0.5      0.909091   \n28                   0.215873   0.020347          0.5      0.181818   \n29                   0.647619   0.017167          0.0      0.636364   \n\n    BookingDay  TripYear  TripMonth   TripDay  DayofWeekTripStart  \\\n0     0.466667       0.5   0.181818  0.400000            0.833333   \n1     0.500000       0.5   0.909091  0.033333            0.166667   \n2     0.733333       0.0   1.000000  0.366667            0.833333   \n3     0.133333       0.0   1.000000  0.800000            0.666667   \n4     0.866667       0.5   0.000000  0.366667            0.166667   \n5     0.766667       1.0   0.181818  0.500000            0.500000   \n8     0.700000       1.0   0.000000  0.833333            0.333333   \n10    0.600000       0.5   0.363636  0.533333            0.000000   \n13    0.300000       0.5   0.454545  0.933333            0.166667   \n14    0.133333       0.0   0.818182  0.400000            0.166667   \n17    0.833333       0.5   0.181818  0.166667            0.833333   \n19    0.833333       1.0   0.818182  0.533333            0.166667   \n20    0.166667       0.0   0.727273  0.966667            0.333333   \n21    0.333333       1.0   0.454545  0.066667            0.833333   \n22    0.566667       0.0   0.454545  0.800000            0.500000   \n23    0.300000       1.0   0.545455  0.933333            0.833333   \n24    0.800000       0.0   0.545455  0.966667            0.500000   \n25    0.500000       1.0   0.727273  0.000000            0.666667   \n28    0.000000       0.5   0.454545  0.700000            0.166667   \n29    0.100000       0.5   0.272727  0.300000            0.833333   \n\n    CustomerPostalCode    Income  MembersinHousehold  MonthNumofBirth  \\\n0             1.000000  0.676170                 0.0         0.818182   \n1             1.000000  0.676170                 0.0         0.818182   \n2             0.000000  0.157633                 0.0         1.000000   \n3             0.000000  0.157633                 0.0         1.000000   \n4             0.000000  0.218746                 0.2         0.454545   \n5             0.000000  0.218746                 0.2         0.454545   \n8             0.114363  0.416610                 0.4         0.818182   \n10            0.114363  0.416610                 0.4         0.818182   \n13            0.089077  0.624122                 0.0         0.000000   \n14            0.627776  0.300801                 0.2         1.000000   \n17            1.000000  0.389647                 0.4         0.454545   \n19            1.000000  0.389647                 0.4         0.454545   \n20            0.089077  0.541095                 0.0         1.000000   \n21            0.089077  0.541095                 0.0         1.000000   \n22            0.089077  0.541095                 0.0         1.000000   \n23            0.000000  0.639051                 0.2         0.454545   \n24            0.000000  0.763162                 0.0         0.363636   \n25            0.000000  0.763162                 0.0         0.363636   \n28            0.000000  0.132106                 0.0         0.272727   \n29            0.000000  0.132106                 0.0         0.272727   \n\n    SalesRep_ID  IncomeBin  TripDelay  DestinationAirportCode  \\\n0      0.142857       0.75        0.0                0.600000   \n1      0.142857       0.75        0.0                0.066667   \n2      0.357143       0.00        1.0                0.000000   \n3      0.357143       0.00        0.0                0.333333   \n4      0.285714       0.25        0.0                0.666667   \n5      0.285714       0.25        0.0                0.400000   \n8      0.214286       0.50        0.0                0.133333   \n10     0.214286       0.50        0.0                0.600000   \n13     0.500000       0.75        0.0                0.733333   \n14     0.142857       0.25        0.0                0.200000   \n17     0.500000       0.25        0.0                0.666667   \n19     0.500000       0.25        0.0                0.066667   \n20     0.357143       0.50        1.0                0.200000   \n21     0.357143       0.50        0.0                0.333333   \n22     0.357143       0.50        0.0                0.800000   \n23     0.642857       0.75        0.0                0.066667   \n24     0.214286       0.75        0.0                0.200000   \n25     0.214286       0.75        1.0                0.800000   \n28     0.214286       0.00        0.0                0.066667   \n29     0.214286       0.00        0.0                0.466667   \n\n    DestinationCountry  DestinationCity  DestinationType  BookingType  \\\n0                  0.5         0.933333         0.333333          0.0   \n1                  0.0         0.866667         0.666667          0.5   \n2                  0.6         0.000000         0.333333          0.5   \n3                  1.0         1.000000         0.666667          0.5   \n4                  1.0         0.266667         1.000000          0.0   \n5                  0.8         0.133333         0.333333          1.0   \n8                  0.3         0.666667         0.000000          0.5   \n10                 0.5         0.933333         1.000000          0.5   \n13                 1.0         0.333333         1.000000          0.5   \n14                 0.4         0.800000         0.333333          0.5   \n17                 1.0         0.266667         1.000000          0.5   \n19                 0.0         0.866667         0.000000          0.5   \n20                 0.4         0.800000         0.333333          0.5   \n21                 1.0         1.000000         0.333333          1.0   \n22                 1.0         0.466667         0.333333          1.0   \n23                 0.0         0.866667         0.333333          0.5   \n24                 0.4         0.800000         0.333333          0.5   \n25                 1.0         0.466667         0.666667          0.5   \n28                 0.0         0.866667         0.000000          0.5   \n29                 0.1         0.733333         0.333333          1.0   \n\n    Classification  MultiDestination    Origin  PackageType  PaymentPlan  \\\n0              0.5               0.0  0.000000          0.5          0.0   \n1              0.0               0.0  0.857143          0.0          0.0   \n2              0.5               1.0  0.142857          0.5          0.0   \n3              0.0               0.0  0.142857          0.5          1.0   \n4              0.5               0.0  0.857143          0.5          0.0   \n5              0.0               0.0  1.000000          0.5          0.0   \n8              0.5               0.0  0.571429          1.0          0.0   \n10             1.0               0.0  1.000000          1.0          0.0   \n13             0.5               1.0  0.714286          0.0          0.0   \n14             1.0               1.0  0.285714          1.0          0.0   \n17             0.0               0.0  0.571429          1.0          0.0   \n19             0.5               0.0  0.571429          1.0          0.0   \n20             0.5               0.0  1.000000          0.5          0.0   \n21             0.5               0.0  1.000000          0.0          1.0   \n22             1.0               0.0  1.000000          0.0          0.0   \n23             0.5               0.0  0.142857          0.5          0.0   \n24             1.0               0.0  0.142857          1.0          1.0   \n25             0.0               1.0  0.142857          0.0          0.0   \n28             1.0               0.0  0.142857          0.0          0.0   \n29             1.0               0.0  0.142857          0.5          0.0   \n\n    CustomerCountry  CustomerCity  CustomerState  Gender  MaritalStatus  \\\n0               0.0           0.6            0.8     0.0            0.5   \n1               0.0           0.6            0.8     0.0            0.5   \n2               0.0           0.0            0.2     0.0            0.5   \n3               0.0           0.0            0.2     0.0            0.5   \n4               0.0           0.0            0.2     0.0            1.0   \n5               0.0           0.0            0.2     0.0            1.0   \n8               0.0           0.4            0.4     0.0            0.0   \n10              0.0           0.4            0.4     0.0            0.0   \n13              0.0           1.0            1.0     0.0            0.5   \n14              0.0           0.8            0.6     0.0            1.0   \n17              0.0           0.6            0.8     0.0            0.0   \n19              0.0           0.6            0.8     0.0            0.0   \n20              0.0           1.0            1.0     1.0            0.5   \n21              0.0           1.0            1.0     1.0            0.5   \n22              0.0           1.0            1.0     1.0            0.5   \n23              0.0           0.0            0.2     1.0            1.0   \n24              0.0           0.0            0.2     0.0            0.5   \n25              0.0           0.0            0.2     0.0            0.5   \n28              0.0           0.0            0.2     0.0            0.5   \n29              0.0           0.0            0.2     0.0            0.5   \n\n    Profession  EducationLevel  PetOwner  MonthBirth  OwnHome  \\\n0     0.538462             1.0       0.0    0.909091      1.0   \n1     0.538462             1.0       0.0    0.909091      1.0   \n2     0.923077             0.0       1.0    0.181818      0.0   \n3     0.923077             0.0       1.0    0.181818      0.0   \n4     0.461538             0.0       0.0    0.545455      0.0   \n5     0.461538             0.0       0.0    0.545455      0.0   \n8     0.846154             0.0       0.0    0.909091      0.0   \n10    0.846154             0.0       0.0    0.909091      0.0   \n13    0.153846             1.0       0.0    0.363636      1.0   \n14    0.153846             1.0       0.0    0.181818      1.0   \n17    0.153846             0.0       0.0    0.545455      0.0   \n19    0.153846             0.0       0.0    0.545455      0.0   \n20    0.230769             0.0       0.0    0.181818      1.0   \n21    0.230769             0.0       0.0    0.181818      1.0   \n22    0.230769             0.0       0.0    0.181818      1.0   \n23    0.153846             1.0       1.0    0.545455      1.0   \n24    0.076923             0.0       1.0    0.727273      0.0   \n25    0.076923             0.0       1.0    0.727273      0.0   \n28    0.923077             0.0       0.0    0.000000      1.0   \n29    0.923077             0.0       0.0    0.000000      1.0   \n\n    RespondedtoPromo  AgeBand  ReturnCustomer  probabilityOfReturn  \n0                0.0     0.50               1             0.849373  \n1                0.0     0.50               1             0.864733  \n2                0.0     0.50               1             0.104341  \n3                0.0     0.50               1             0.246342  \n4                0.0     0.25               1             0.703523  \n5                0.0     0.25               1             0.727506  \n8                0.0     0.50               1             0.850157  \n10               0.0     0.50               1             0.844059  \n13               0.0     0.00               1             0.818118  \n14               0.0     0.25               1             0.626144  \n17               1.0     0.50               1             0.821950  \n19               1.0     0.50               1             0.849759  \n20               0.0     0.50               1             0.558601  \n21               0.0     0.50               1             0.793568  \n22               0.0     0.50               1             0.763850  \n23               0.0     0.00               0             0.490126  \n24               0.0     0.25               1             0.723647  \n25               0.0     0.25               1             0.530010  \n28               0.0     0.00               1             0.465241  \n29               0.0     0.00               1             0.475094  ", 
                        "text/html": "<div>\n<style>\n    .dataframe thead tr:only-child th {\n        text-align: right;\n    }\n\n    .dataframe thead th {\n        text-align: left;\n    }\n\n    .dataframe tbody tr th {\n        vertical-align: top;\n    }\n</style>\n<table border=\"1\" class=\"dataframe\">\n  <thead>\n    <tr style=\"text-align: right;\">\n      <th></th>\n      <th>TravelingParty</th>\n      <th>LengthofTrip</th>\n      <th>TripCostPerPersonPerDay</th>\n      <th>DaysBetweenBookingandTrip</th>\n      <th>TotalCost</th>\n      <th>BookingYear</th>\n      <th>BookingMonth</th>\n      <th>BookingDay</th>\n      <th>TripYear</th>\n      <th>TripMonth</th>\n      <th>TripDay</th>\n      <th>DayofWeekTripStart</th>\n      <th>CustomerPostalCode</th>\n      <th>Income</th>\n      <th>MembersinHousehold</th>\n      <th>MonthNumofBirth</th>\n      <th>SalesRep_ID</th>\n      <th>IncomeBin</th>\n      <th>TripDelay</th>\n      <th>DestinationAirportCode</th>\n      <th>DestinationCountry</th>\n      <th>DestinationCity</th>\n      <th>DestinationType</th>\n      <th>BookingType</th>\n      <th>Classification</th>\n      <th>MultiDestination</th>\n      <th>Origin</th>\n      <th>PackageType</th>\n      <th>PaymentPlan</th>\n      <th>CustomerCountry</th>\n      <th>CustomerCity</th>\n      <th>CustomerState</th>\n      <th>Gender</th>\n      <th>MaritalStatus</th>\n      <th>Profession</th>\n      <th>EducationLevel</th>\n      <th>PetOwner</th>\n      <th>MonthBirth</th>\n      <th>OwnHome</th>\n      <th>RespondedtoPromo</th>\n      <th>AgeBand</th>\n      <th>ReturnCustomer</th>\n      <th>probabilityOfReturn</th>\n    </tr>\n  </thead>\n  <tbody>\n    <tr>\n      <th>0</th>\n      <td>0.142857</td>\n      <td>0.9</td>\n      <td>0.291994</td>\n      <td>0.330159</td>\n      <td>0.087013</td>\n      <td>0.0</td>\n      <td>0.818182</td>\n      <td>0.466667</td>\n      <td>0.5</td>\n      <td>0.181818</td>\n      <td>0.400000</td>\n      <td>0.833333</td>\n      <td>1.000000</td>\n      <td>0.676170</td>\n      <td>0.0</td>\n      <td>0.818182</td>\n      <td>0.142857</td>\n      <td>0.75</td>\n      <td>0.0</td>\n      <td>0.600000</td>\n      <td>0.5</td>\n      <td>0.933333</td>\n      <td>0.333333</td>\n      <td>0.0</td>\n      <td>0.5</td>\n      <td>0.0</td>\n      <td>0.000000</td>\n      <td>0.5</td>\n      <td>0.0</td>\n      <td>0.0</td>\n      <td>0.6</td>\n      <td>0.8</td>\n      <td>0.0</td>\n      <td>0.5</td>\n      <td>0.538462</td>\n      <td>1.0</td>\n      <td>0.0</td>\n      <td>0.909091</td>\n      <td>1.0</td>\n      <td>0.0</td>\n      <td>0.50</td>\n      <td>1</td>\n      <td>0.849373</td>\n    </tr>\n    <tr>\n      <th>1</th>\n      <td>0.571429</td>\n      <td>0.8</td>\n      <td>0.506279</td>\n      <td>0.203175</td>\n      <td>0.328043</td>\n      <td>0.5</td>\n      <td>0.545455</td>\n      <td>0.500000</td>\n      <td>0.5</td>\n      <td>0.909091</td>\n      <td>0.033333</td>\n      <td>0.166667</td>\n      <td>1.000000</td>\n      <td>0.676170</td>\n      <td>0.0</td>\n      <td>0.818182</td>\n      <td>0.142857</td>\n      <td>0.75</td>\n      <td>0.0</td>\n      <td>0.066667</td>\n      <td>0.0</td>\n      <td>0.866667</td>\n      <td>0.666667</td>\n      <td>0.5</td>\n      <td>0.0</td>\n      <td>0.0</td>\n      <td>0.857143</td>\n      <td>0.0</td>\n      <td>0.0</td>\n      <td>0.0</td>\n      <td>0.6</td>\n      <td>0.8</td>\n      <td>0.0</td>\n      <td>0.5</td>\n      <td>0.538462</td>\n      <td>1.0</td>\n      <td>0.0</td>\n      <td>0.909091</td>\n      <td>1.0</td>\n      <td>0.0</td>\n      <td>0.50</td>\n      <td>1</td>\n      <td>0.864733</td>\n    </tr>\n    <tr>\n      <th>2</th>\n      <td>0.142857</td>\n      <td>0.3</td>\n      <td>0.281005</td>\n      <td>0.784127</td>\n      <td>0.041189</td>\n      <td>0.0</td>\n      <td>0.090909</td>\n      <td>0.733333</td>\n      <td>0.0</td>\n      <td>1.000000</td>\n      <td>0.366667</td>\n      <td>0.833333</td>\n      <td>0.000000</td>\n      <td>0.157633</td>\n      <td>0.0</td>\n      <td>1.000000</td>\n      <td>0.357143</td>\n      <td>0.00</td>\n      <td>1.0</td>\n      <td>0.000000</td>\n      <td>0.6</td>\n      <td>0.000000</td>\n      <td>0.333333</td>\n      <td>0.5</td>\n      <td>0.5</td>\n      <td>1.0</td>\n      <td>0.142857</td>\n      <td>0.5</td>\n      <td>0.0</td>\n      <td>0.0</td>\n      <td>0.0</td>\n      <td>0.2</td>\n      <td>0.0</td>\n      <td>0.5</td>\n      <td>0.923077</td>\n      <td>0.0</td>\n      <td>1.0</td>\n      <td>0.181818</td>\n      <td>0.0</td>\n      <td>0.0</td>\n      <td>0.50</td>\n      <td>1</td>\n      <td>0.104341</td>\n    </tr>\n    <tr>\n      <th>3</th>\n      <td>0.000000</td>\n      <td>0.2</td>\n      <td>0.386185</td>\n      <td>0.015873</td>\n      <td>0.021835</td>\n      <td>0.0</td>\n      <td>0.909091</td>\n      <td>0.133333</td>\n      <td>0.0</td>\n      <td>1.000000</td>\n      <td>0.800000</td>\n      <td>0.666667</td>\n      <td>0.000000</td>\n      <td>0.157633</td>\n      <td>0.0</td>\n      <td>1.000000</td>\n      <td>0.357143</td>\n      <td>0.00</td>\n      <td>0.0</td>\n      <td>0.333333</td>\n      <td>1.0</td>\n      <td>1.000000</td>\n      <td>0.666667</td>\n      <td>0.5</td>\n      <td>0.0</td>\n      <td>0.0</td>\n      <td>0.142857</td>\n      <td>0.5</td>\n      <td>1.0</td>\n      <td>0.0</td>\n      <td>0.0</td>\n      <td>0.2</td>\n      <td>0.0</td>\n      <td>0.5</td>\n      <td>0.923077</td>\n      <td>0.0</td>\n      <td>1.0</td>\n      <td>0.181818</td>\n      <td>0.0</td>\n      <td>0.0</td>\n      <td>0.50</td>\n      <td>1</td>\n      <td>0.246342</td>\n    </tr>\n    <tr>\n      <th>4</th>\n      <td>0.285714</td>\n      <td>0.1</td>\n      <td>0.195447</td>\n      <td>0.488889</td>\n      <td>0.030246</td>\n      <td>0.0</td>\n      <td>0.454545</td>\n      <td>0.866667</td>\n      <td>0.5</td>\n      <td>0.000000</td>\n      <td>0.366667</td>\n      <td>0.166667</td>\n      <td>0.000000</td>\n      <td>0.218746</td>\n      <td>0.2</td>\n      <td>0.454545</td>\n      <td>0.285714</td>\n      <td>0.25</td>\n      <td>0.0</td>\n      <td>0.666667</td>\n      <td>1.0</td>\n      <td>0.266667</td>\n      <td>1.000000</td>\n      <td>0.0</td>\n      <td>0.5</td>\n      <td>0.0</td>\n      <td>0.857143</td>\n      <td>0.5</td>\n      <td>0.0</td>\n      <td>0.0</td>\n      <td>0.0</td>\n      <td>0.2</td>\n      <td>0.0</td>\n      <td>1.0</td>\n      <td>0.461538</td>\n      <td>0.0</td>\n      <td>0.0</td>\n      <td>0.545455</td>\n      <td>0.0</td>\n      <td>0.0</td>\n      <td>0.25</td>\n      <td>1</td>\n      <td>0.703523</td>\n    </tr>\n    <tr>\n      <th>5</th>\n      <td>0.000000</td>\n      <td>0.7</td>\n      <td>0.310832</td>\n      <td>0.800000</td>\n      <td>0.037287</td>\n      <td>0.5</td>\n      <td>0.363636</td>\n      <td>0.766667</td>\n      <td>1.0</td>\n      <td>0.181818</td>\n      <td>0.500000</td>\n      <td>0.500000</td>\n      <td>0.000000</td>\n      <td>0.218746</td>\n      <td>0.2</td>\n      <td>0.454545</td>\n      <td>0.285714</td>\n      <td>0.25</td>\n      <td>0.0</td>\n      <td>0.400000</td>\n      <td>0.8</td>\n      <td>0.133333</td>\n      <td>0.333333</td>\n      <td>1.0</td>\n      <td>0.0</td>\n      <td>0.0</td>\n      <td>1.000000</td>\n      <td>0.5</td>\n      <td>0.0</td>\n      <td>0.0</td>\n      <td>0.0</td>\n      <td>0.2</td>\n      <td>0.0</td>\n      <td>1.0</td>\n      <td>0.461538</td>\n      <td>0.0</td>\n      <td>0.0</td>\n      <td>0.545455</td>\n      <td>0.0</td>\n      <td>0.0</td>\n      <td>0.25</td>\n      <td>1</td>\n      <td>0.727506</td>\n    </tr>\n    <tr>\n      <th>8</th>\n      <td>0.285714</td>\n      <td>0.2</td>\n      <td>0.247253</td>\n      <td>0.063492</td>\n      <td>0.046606</td>\n      <td>0.5</td>\n      <td>0.909091</td>\n      <td>0.700000</td>\n      <td>1.0</td>\n      <td>0.000000</td>\n      <td>0.833333</td>\n      <td>0.333333</td>\n      <td>0.114363</td>\n      <td>0.416610</td>\n      <td>0.4</td>\n      <td>0.818182</td>\n      <td>0.214286</td>\n      <td>0.50</td>\n      <td>0.0</td>\n      <td>0.133333</td>\n      <td>0.3</td>\n      <td>0.666667</td>\n      <td>0.000000</td>\n      <td>0.5</td>\n      <td>0.5</td>\n      <td>0.0</td>\n      <td>0.571429</td>\n      <td>1.0</td>\n      <td>0.0</td>\n      <td>0.0</td>\n      <td>0.4</td>\n      <td>0.4</td>\n      <td>0.0</td>\n      <td>0.0</td>\n      <td>0.846154</td>\n      <td>0.0</td>\n      <td>0.0</td>\n      <td>0.909091</td>\n      <td>0.0</td>\n      <td>0.0</td>\n      <td>0.50</td>\n      <td>1</td>\n      <td>0.850157</td>\n    </tr>\n    <tr>\n      <th>10</th>\n      <td>0.571429</td>\n      <td>0.1</td>\n      <td>0.213501</td>\n      <td>0.044444</td>\n      <td>0.055320</td>\n      <td>0.5</td>\n      <td>0.181818</td>\n      <td>0.600000</td>\n      <td>0.5</td>\n      <td>0.363636</td>\n      <td>0.533333</td>\n      <td>0.000000</td>\n      <td>0.114363</td>\n      <td>0.416610</td>\n      <td>0.4</td>\n      <td>0.818182</td>\n      <td>0.214286</td>\n      <td>0.50</td>\n      <td>0.0</td>\n      <td>0.600000</td>\n      <td>0.5</td>\n      <td>0.933333</td>\n      <td>1.000000</td>\n      <td>0.5</td>\n      <td>1.0</td>\n      <td>0.0</td>\n      <td>1.000000</td>\n      <td>1.0</td>\n      <td>0.0</td>\n      <td>0.0</td>\n      <td>0.4</td>\n      <td>0.4</td>\n      <td>0.0</td>\n      <td>0.0</td>\n      <td>0.846154</td>\n      <td>0.0</td>\n      <td>0.0</td>\n      <td>0.909091</td>\n      <td>0.0</td>\n      <td>0.0</td>\n      <td>0.50</td>\n      <td>1</td>\n      <td>0.844059</td>\n    </tr>\n    <tr>\n      <th>13</th>\n      <td>0.428571</td>\n      <td>0.3</td>\n      <td>0.208791</td>\n      <td>0.111111</td>\n      <td>0.065531</td>\n      <td>0.5</td>\n      <td>0.272727</td>\n      <td>0.300000</td>\n      <td>0.5</td>\n      <td>0.454545</td>\n      <td>0.933333</td>\n      <td>0.166667</td>\n      <td>0.089077</td>\n      <td>0.624122</td>\n      <td>0.0</td>\n      <td>0.000000</td>\n      <td>0.500000</td>\n      <td>0.75</td>\n      <td>0.0</td>\n      <td>0.733333</td>\n      <td>1.0</td>\n      <td>0.333333</td>\n      <td>1.000000</td>\n      <td>0.5</td>\n      <td>0.5</td>\n      <td>1.0</td>\n      <td>0.714286</td>\n      <td>0.0</td>\n      <td>0.0</td>\n      <td>0.0</td>\n      <td>1.0</td>\n      <td>1.0</td>\n      <td>0.0</td>\n      <td>0.5</td>\n      <td>0.153846</td>\n      <td>1.0</td>\n      <td>0.0</td>\n      <td>0.363636</td>\n      <td>1.0</td>\n      <td>0.0</td>\n      <td>0.00</td>\n      <td>1</td>\n      <td>0.818118</td>\n    </tr>\n    <tr>\n      <th>14</th>\n      <td>0.285714</td>\n      <td>1.0</td>\n      <td>0.156986</td>\n      <td>0.174603</td>\n      <td>0.085911</td>\n      <td>0.0</td>\n      <td>0.545455</td>\n      <td>0.133333</td>\n      <td>0.0</td>\n      <td>0.818182</td>\n      <td>0.400000</td>\n      <td>0.166667</td>\n      <td>0.627776</td>\n      <td>0.300801</td>\n      <td>0.2</td>\n      <td>1.000000</td>\n      <td>0.142857</td>\n      <td>0.25</td>\n      <td>0.0</td>\n      <td>0.200000</td>\n      <td>0.4</td>\n      <td>0.800000</td>\n      <td>0.333333</td>\n      <td>0.5</td>\n      <td>1.0</td>\n      <td>1.0</td>\n      <td>0.285714</td>\n      <td>1.0</td>\n      <td>0.0</td>\n      <td>0.0</td>\n      <td>0.8</td>\n      <td>0.6</td>\n      <td>0.0</td>\n      <td>1.0</td>\n      <td>0.153846</td>\n      <td>1.0</td>\n      <td>0.0</td>\n      <td>0.181818</td>\n      <td>1.0</td>\n      <td>0.0</td>\n      <td>0.25</td>\n      <td>1</td>\n      <td>0.626144</td>\n    </tr>\n    <tr>\n      <th>17</th>\n      <td>0.142857</td>\n      <td>0.3</td>\n      <td>0.505495</td>\n      <td>0.273016</td>\n      <td>0.070098</td>\n      <td>0.0</td>\n      <td>0.818182</td>\n      <td>0.833333</td>\n      <td>0.5</td>\n      <td>0.181818</td>\n      <td>0.166667</td>\n      <td>0.833333</td>\n      <td>1.000000</td>\n      <td>0.389647</td>\n      <td>0.4</td>\n      <td>0.454545</td>\n      <td>0.500000</td>\n      <td>0.25</td>\n      <td>0.0</td>\n      <td>0.666667</td>\n      <td>1.0</td>\n      <td>0.266667</td>\n      <td>1.000000</td>\n      <td>0.5</td>\n      <td>0.0</td>\n      <td>0.0</td>\n      <td>0.571429</td>\n      <td>1.0</td>\n      <td>0.0</td>\n      <td>0.0</td>\n      <td>0.6</td>\n      <td>0.8</td>\n      <td>0.0</td>\n      <td>0.0</td>\n      <td>0.153846</td>\n      <td>0.0</td>\n      <td>0.0</td>\n      <td>0.545455</td>\n      <td>0.0</td>\n      <td>1.0</td>\n      <td>0.50</td>\n      <td>1</td>\n      <td>0.821950</td>\n    </tr>\n    <tr>\n      <th>19</th>\n      <td>0.000000</td>\n      <td>0.2</td>\n      <td>0.124019</td>\n      <td>0.990476</td>\n      <td>0.007763</td>\n      <td>0.5</td>\n      <td>0.818182</td>\n      <td>0.833333</td>\n      <td>1.0</td>\n      <td>0.818182</td>\n      <td>0.533333</td>\n      <td>0.166667</td>\n      <td>1.000000</td>\n      <td>0.389647</td>\n      <td>0.4</td>\n      <td>0.454545</td>\n      <td>0.500000</td>\n      <td>0.25</td>\n      <td>0.0</td>\n      <td>0.066667</td>\n      <td>0.0</td>\n      <td>0.866667</td>\n      <td>0.000000</td>\n      <td>0.5</td>\n      <td>0.5</td>\n      <td>0.0</td>\n      <td>0.571429</td>\n      <td>1.0</td>\n      <td>0.0</td>\n      <td>0.0</td>\n      <td>0.6</td>\n      <td>0.8</td>\n      <td>0.0</td>\n      <td>0.0</td>\n      <td>0.153846</td>\n      <td>0.0</td>\n      <td>0.0</td>\n      <td>0.545455</td>\n      <td>0.0</td>\n      <td>1.0</td>\n      <td>0.50</td>\n      <td>1</td>\n      <td>0.849759</td>\n    </tr>\n    <tr>\n      <th>20</th>\n      <td>0.428571</td>\n      <td>0.2</td>\n      <td>0.257457</td>\n      <td>0.704762</td>\n      <td>0.064799</td>\n      <td>0.0</td>\n      <td>0.000000</td>\n      <td>0.166667</td>\n      <td>0.0</td>\n      <td>0.727273</td>\n      <td>0.966667</td>\n      <td>0.333333</td>\n      <td>0.089077</td>\n      <td>0.541095</td>\n      <td>0.0</td>\n      <td>1.000000</td>\n      <td>0.357143</td>\n      <td>0.50</td>\n      <td>1.0</td>\n      <td>0.200000</td>\n      <td>0.4</td>\n      <td>0.800000</td>\n      <td>0.333333</td>\n      <td>0.5</td>\n      <td>0.5</td>\n      <td>0.0</td>\n      <td>1.000000</td>\n      <td>0.5</td>\n      <td>0.0</td>\n      <td>0.0</td>\n      <td>1.0</td>\n      <td>1.0</td>\n      <td>1.0</td>\n      <td>0.5</td>\n      <td>0.230769</td>\n      <td>0.0</td>\n      <td>0.0</td>\n      <td>0.181818</td>\n      <td>1.0</td>\n      <td>0.0</td>\n      <td>0.50</td>\n      <td>1</td>\n      <td>0.558601</td>\n    </tr>\n    <tr>\n      <th>21</th>\n      <td>0.428571</td>\n      <td>0.3</td>\n      <td>0.267661</td>\n      <td>0.507937</td>\n      <td>0.080654</td>\n      <td>0.5</td>\n      <td>0.909091</td>\n      <td>0.333333</td>\n      <td>1.0</td>\n      <td>0.454545</td>\n      <td>0.066667</td>\n      <td>0.833333</td>\n      <td>0.089077</td>\n      <td>0.541095</td>\n      <td>0.0</td>\n      <td>1.000000</td>\n      <td>0.357143</td>\n      <td>0.50</td>\n      <td>0.0</td>\n      <td>0.333333</td>\n      <td>1.0</td>\n      <td>1.000000</td>\n      <td>0.333333</td>\n      <td>1.0</td>\n      <td>0.5</td>\n      <td>0.0</td>\n      <td>1.000000</td>\n      <td>0.0</td>\n      <td>1.0</td>\n      <td>0.0</td>\n      <td>1.0</td>\n      <td>1.0</td>\n      <td>1.0</td>\n      <td>0.5</td>\n      <td>0.230769</td>\n      <td>0.0</td>\n      <td>0.0</td>\n      <td>0.181818</td>\n      <td>1.0</td>\n      <td>0.0</td>\n      <td>0.50</td>\n      <td>1</td>\n      <td>0.793568</td>\n    </tr>\n    <tr>\n      <th>22</th>\n      <td>0.857143</td>\n      <td>0.1</td>\n      <td>0.197802</td>\n      <td>0.073016</td>\n      <td>0.073463</td>\n      <td>0.0</td>\n      <td>0.272727</td>\n      <td>0.566667</td>\n      <td>0.0</td>\n      <td>0.454545</td>\n      <td>0.800000</td>\n      <td>0.500000</td>\n      <td>0.089077</td>\n      <td>0.541095</td>\n      <td>0.0</td>\n      <td>1.000000</td>\n      <td>0.357143</td>\n      <td>0.50</td>\n      <td>0.0</td>\n      <td>0.800000</td>\n      <td>1.0</td>\n      <td>0.466667</td>\n      <td>0.333333</td>\n      <td>1.0</td>\n      <td>1.0</td>\n      <td>0.0</td>\n      <td>1.000000</td>\n      <td>0.0</td>\n      <td>0.0</td>\n      <td>0.0</td>\n      <td>1.0</td>\n      <td>1.0</td>\n      <td>1.0</td>\n      <td>0.5</td>\n      <td>0.230769</td>\n      <td>0.0</td>\n      <td>0.0</td>\n      <td>0.181818</td>\n      <td>1.0</td>\n      <td>0.0</td>\n      <td>0.50</td>\n      <td>1</td>\n      <td>0.763850</td>\n    </tr>\n    <tr>\n      <th>23</th>\n      <td>0.857143</td>\n      <td>0.2</td>\n      <td>0.312402</td>\n      <td>0.980952</td>\n      <td>0.135335</td>\n      <td>0.5</td>\n      <td>0.636364</td>\n      <td>0.300000</td>\n      <td>1.0</td>\n      <td>0.545455</td>\n      <td>0.933333</td>\n      <td>0.833333</td>\n      <td>0.000000</td>\n      <td>0.639051</td>\n      <td>0.2</td>\n      <td>0.454545</td>\n      <td>0.642857</td>\n      <td>0.75</td>\n      <td>0.0</td>\n      <td>0.066667</td>\n      <td>0.0</td>\n      <td>0.866667</td>\n      <td>0.333333</td>\n      <td>0.5</td>\n      <td>0.5</td>\n      <td>0.0</td>\n      <td>0.142857</td>\n      <td>0.5</td>\n      <td>0.0</td>\n      <td>0.0</td>\n      <td>0.0</td>\n      <td>0.2</td>\n      <td>1.0</td>\n      <td>1.0</td>\n      <td>0.153846</td>\n      <td>1.0</td>\n      <td>1.0</td>\n      <td>0.545455</td>\n      <td>1.0</td>\n      <td>0.0</td>\n      <td>0.00</td>\n      <td>0</td>\n      <td>0.490126</td>\n    </tr>\n    <tr>\n      <th>24</th>\n      <td>0.857143</td>\n      <td>0.6</td>\n      <td>0.189168</td>\n      <td>0.066667</td>\n      <td>0.161738</td>\n      <td>0.0</td>\n      <td>0.363636</td>\n      <td>0.800000</td>\n      <td>0.0</td>\n      <td>0.545455</td>\n      <td>0.966667</td>\n      <td>0.500000</td>\n      <td>0.000000</td>\n      <td>0.763162</td>\n      <td>0.0</td>\n      <td>0.363636</td>\n      <td>0.214286</td>\n      <td>0.75</td>\n      <td>0.0</td>\n      <td>0.200000</td>\n      <td>0.4</td>\n      <td>0.800000</td>\n      <td>0.333333</td>\n      <td>0.5</td>\n      <td>1.0</td>\n      <td>0.0</td>\n      <td>0.142857</td>\n      <td>1.0</td>\n      <td>1.0</td>\n      <td>0.0</td>\n      <td>0.0</td>\n      <td>0.2</td>\n      <td>0.0</td>\n      <td>0.5</td>\n      <td>0.076923</td>\n      <td>0.0</td>\n      <td>1.0</td>\n      <td>0.727273</td>\n      <td>0.0</td>\n      <td>0.0</td>\n      <td>0.25</td>\n      <td>1</td>\n      <td>0.723647</td>\n    </tr>\n    <tr>\n      <th>25</th>\n      <td>0.857143</td>\n      <td>0.9</td>\n      <td>0.543171</td>\n      <td>0.777778</td>\n      <td>0.534805</td>\n      <td>0.5</td>\n      <td>0.909091</td>\n      <td>0.500000</td>\n      <td>1.0</td>\n      <td>0.727273</td>\n      <td>0.000000</td>\n      <td>0.666667</td>\n      <td>0.000000</td>\n      <td>0.763162</td>\n      <td>0.0</td>\n      <td>0.363636</td>\n      <td>0.214286</td>\n      <td>0.75</td>\n      <td>1.0</td>\n      <td>0.800000</td>\n      <td>1.0</td>\n      <td>0.466667</td>\n      <td>0.666667</td>\n      <td>0.5</td>\n      <td>0.0</td>\n      <td>1.0</td>\n      <td>0.142857</td>\n      <td>0.0</td>\n      <td>0.0</td>\n      <td>0.0</td>\n      <td>0.0</td>\n      <td>0.2</td>\n      <td>0.0</td>\n      <td>0.5</td>\n      <td>0.076923</td>\n      <td>0.0</td>\n      <td>1.0</td>\n      <td>0.727273</td>\n      <td>0.0</td>\n      <td>0.0</td>\n      <td>0.25</td>\n      <td>1</td>\n      <td>0.530010</td>\n    </tr>\n    <tr>\n      <th>28</th>\n      <td>0.428571</td>\n      <td>0.2</td>\n      <td>0.050235</td>\n      <td>0.215873</td>\n      <td>0.020347</td>\n      <td>0.5</td>\n      <td>0.181818</td>\n      <td>0.000000</td>\n      <td>0.5</td>\n      <td>0.454545</td>\n      <td>0.700000</td>\n      <td>0.166667</td>\n      <td>0.000000</td>\n      <td>0.132106</td>\n      <td>0.0</td>\n      <td>0.272727</td>\n      <td>0.214286</td>\n      <td>0.00</td>\n      <td>0.0</td>\n      <td>0.066667</td>\n      <td>0.0</td>\n      <td>0.866667</td>\n      <td>0.000000</td>\n      <td>0.5</td>\n      <td>1.0</td>\n      <td>0.0</td>\n      <td>0.142857</td>\n      <td>0.0</td>\n      <td>0.0</td>\n      <td>0.0</td>\n      <td>0.0</td>\n      <td>0.2</td>\n      <td>0.0</td>\n      <td>0.5</td>\n      <td>0.923077</td>\n      <td>0.0</td>\n      <td>0.0</td>\n      <td>0.000000</td>\n      <td>1.0</td>\n      <td>0.0</td>\n      <td>0.00</td>\n      <td>1</td>\n      <td>0.465241</td>\n    </tr>\n    <tr>\n      <th>29</th>\n      <td>0.142857</td>\n      <td>0.2</td>\n      <td>0.123234</td>\n      <td>0.647619</td>\n      <td>0.017167</td>\n      <td>0.0</td>\n      <td>0.636364</td>\n      <td>0.100000</td>\n      <td>0.5</td>\n      <td>0.272727</td>\n      <td>0.300000</td>\n      <td>0.833333</td>\n      <td>0.000000</td>\n      <td>0.132106</td>\n      <td>0.0</td>\n      <td>0.272727</td>\n      <td>0.214286</td>\n      <td>0.00</td>\n      <td>0.0</td>\n      <td>0.466667</td>\n      <td>0.1</td>\n      <td>0.733333</td>\n      <td>0.333333</td>\n      <td>1.0</td>\n      <td>1.0</td>\n      <td>0.0</td>\n      <td>0.142857</td>\n      <td>0.5</td>\n      <td>0.0</td>\n      <td>0.0</td>\n      <td>0.0</td>\n      <td>0.2</td>\n      <td>0.0</td>\n      <td>0.5</td>\n      <td>0.923077</td>\n      <td>0.0</td>\n      <td>0.0</td>\n      <td>0.000000</td>\n      <td>1.0</td>\n      <td>0.0</td>\n      <td>0.00</td>\n      <td>1</td>\n      <td>0.475094</td>\n    </tr>\n  </tbody>\n</table>\n</div>"
                    }
                }
            ], 
            "cell_type": "code", 
            "execution_count": 50, 
            "source": "results.head(20)"
        }, 
        {
            "metadata": {}, 
            "cell_type": "markdown", 
            "source": "# Output results to a file"
        }, 
        {
            "metadata": {}, 
            "outputs": [
                {
                    "output_type": "stream", 
                    "text": ",TravelingParty,LengthofTrip,TripCostPerPersonPerDay,DaysBetweenBookingandTrip,TotalCost,BookingYear,BookingMonth,BookingDay,TripYear,TripMonth,TripDay,DayofWeekTripStart,CustomerPostalCode,Income,MembersinHousehold,MonthNumofBirth,SalesRep_ID,IncomeBin,TripDelay,DestinationAirportCode,DestinationCountry,DestinationCity,DestinationType,BookingType,Classification,MultiDestination,Origin,PackageType,PaymentPlan,CustomerCountry,CustomerCity,CustomerState,Gender,MaritalStatus,Profession,EducationLevel,PetOwner,MonthBirth,OwnHome,RespondedtoPromo,AgeBand,ReturnCustomer,probabilityOfReturn\r\n0,0.14285714285714285,0.9000000000000001,0.29199372056514916,0.33015873015873015,0.0870132054840609,0.0,0.8181818181818182,0.4666666666666667,0.5,0.1818181818181818,0.4,0.8333333333333334,0.9999999999999999,0.6761703177939163,0.0,0.8181818181818182,0.14285714285714285,0.75,0.0,0.6,0.5,0.9333333333333333,0.3333333333333333,0.0,0.5,0.0,0.0,0.5,0.0,0.0,0.6000000000000001,0.8,0.0,0.5,0.5384615384615385,1.0,0.0,0.9090909090909092,1.0,0.0,0.5,1,0.8493732806842477\r\n1,0.5714285714285714,0.8,0.5062794348508635,0.20317460317460317,0.32804272857263017,0.5,0.5454545454545454,0.5,0.5,0.9090909090909091,0.03333333333333333,0.16666666666666666,0.9999999999999999,0.6761703177939163,0.0,0.8181818181818182,0.14285714285714285,0.75,0.0,0.06666666666666667,0.0,0.8666666666666667,0.6666666666666666,0.5,0.0,0.0,0.8571428571428571,0.0,0.0,0.0,0.6000000000000001,0.8,0.0,0.5,0.5384615384615385,1.0,0.0,0.9090909090909092,1.0,0.0,0.5,1,0.8647334809520568\r\n2,0.14285714285714285,0.30000000000000004,0.28100470957613816,0.7841269841269842,0.04118933467911515,0.0,0.09090909090909091,0.7333333333333333,0.0,0.9999999999999999,0.3666666666666667,0.8333333333333334,0.0,0.15763296261116058,0.0,0.9999999999999999,0.3571428571428571,0.0,1.0,0.0,0.6000000000000001,0.0,0.3333333333333333,0.5,0.5,1.0,0.14285714285714285,0.5,0.0,0.0,0.0,0.2,0.0,0.5,0.9230769230769231,0.0,1.0,0.18181818181818182,0.0,0.0,0.5,1,0.10434103748559702\r\n3,0.0,0.19999999999999996,0.3861852433281005,0.015873015873015872,0.021835309950374297,0.0,0.9090909090909091,0.13333333333333333,0.0,0.9999999999999999,0.8,0.6666666666666666,0.0,0.15763296261116058,0.0,0.9999999999999999,0.3571428571428571,0.0,0.0,0.3333333333333333,1.0,1.0,0.6666666666666666,0.5,0.0,0.0,0.14285714285714285,0.5,1.0,0.0,0.0,0.2,0.0,0.5,0.9230769230769231,0.0,1.0,0.18181818181818182,0.0,0.0,0.5,1,0.24634249882233122\r\n4,0.2857142857142857,0.09999999999999998,0.19544740973312402,0.4888888888888889,0.03024644629489444,0.0,0.4545454545454545,0.8666666666666667,0.5,0.0,0.3666666666666667,0.16666666666666666,0.0,0.21874602664113743,0.2,0.4545454545454545,0.2857142857142857,0.25,0.0,0.6666666666666666,1.0,0.26666666666666666,1.0,0.0,0.5,0.0,0.8571428571428571,0.5,0.0,0.0,0.0,0.2,0.0,1.0,0.46153846153846156,0.0,0.0,0.5454545454545454,0.0,0.0,0.25,1,0.703522555039065\r\n5,0.0,0.7,0.3108320251177394,0.8,0.0372865674152578,0.5,0.36363636363636365,0.7666666666666667,1.0,0.1818181818181818,0.5,0.5,0.0,0.21874602664113743,0.2,0.4545454545454545,0.2857142857142857,0.25,0.0,0.4,0.8,0.13333333333333333,0.3333333333333333,1.0,0.0,0.0,1.0,0.5,0.0,0.0,0.0,0.2,0.0,1.0,0.46153846153846156,0.0,0.0,0.5454545454545454,0.0,0.0,0.25,1,0.7275056574449315\r\n8,0.2857142857142857,0.19999999999999996,0.24725274725274726,0.06349206349206349,0.04660610648498612,0.5,0.9090909090909091,0.7,1.0,0.0,0.8333333333333334,0.33333333333333337,0.11436272622256449,0.4166099489166286,0.4000000000000001,0.8181818181818182,0.21428571428571427,0.5,0.0,0.13333333333333333,0.30000000000000004,0.6666666666666666,0.0,0.5,0.5,0.0,0.5714285714285714,1.0,0.0,0.0,0.4,0.4,0.0,0.0,0.8461538461538463,0.0,0.0,0.9090909090909092,0.0,0.0,0.5,1,0.8501568843165176\r\n10,0.5714285714285714,0.09999999999999998,0.21350078492935637,0.04444444444444445,0.05532004373790899,0.5,0.1818181818181818,0.6,0.5,0.36363636363636365,0.5333333333333333,0.0,0.11436272622256449,0.4166099489166286,0.4000000000000001,0.8181818181818182,0.21428571428571427,0.5,0.0,0.6,0.5,0.9333333333333333,1.0,0.5,1.0,0.0,1.0,1.0,0.0,0.0,0.4,0.4,0.0,0.0,0.8461538461538463,0.0,0.0,0.9090909090909092,0.0,0.0,0.5,1,0.8440593321594053\r\n13,0.42857142857142855,0.30000000000000004,0.20879120879120877,0.1111111111111111,0.06553116326015644,0.5,0.2727272727272727,0.3,0.5,0.4545454545454545,0.9333333333333333,0.16666666666666666,0.0890771402900783,0.6241221214183675,0.0,0.0,0.5,0.75,0.0,0.7333333333333333,1.0,0.3333333333333333,1.0,0.5,0.5,1.0,0.7142857142857142,0.0,0.0,0.0,1.0,1.0,0.0,0.5,0.15384615384615385,1.0,0.0,0.36363636363636365,1.0,0.0,0.0,1,0.8181176425046675\r\n", 
                    "name": "stdout"
                }
            ], 
            "cell_type": "code", 
            "execution_count": 51, 
            "source": "# Output as CSV file\nresults.to_csv('results.csv', sep=',', header=True)\n!head results.csv"
        }, 
        {
            "metadata": {
                "collapsed": true
            }, 
            "outputs": [], 
            "cell_type": "code", 
            "execution_count": 52, 
            "source": "# Use pickle\nresults.to_pickle('results.pkl')"
        }, 
        {
            "metadata": {
                "collapsed": true
            }, 
            "outputs": [], 
            "cell_type": "code", 
            "execution_count": 53, 
            "source": "# Read pickle file back as dataframe\nresults2 = pd.read_pickle('results.pkl')"
        }, 
        {
            "metadata": {}, 
            "outputs": [
                {
                    "metadata": {}, 
                    "output_type": "execute_result", 
                    "execution_count": 54, 
                    "data": {
                        "text/plain": "True"
                    }
                }
            ], 
            "cell_type": "code", 
            "execution_count": 54, 
            "source": "results2.equals(results)"
        }, 
        {
            "metadata": {}, 
            "cell_type": "markdown", 
            "source": "## Persist the model"
        }, 
        {
            "metadata": {
                "collapsed": true
            }, 
            "outputs": [], 
            "cell_type": "code", 
            "execution_count": 55, 
            "source": "from repository.mlrepositoryclient import MLRepositoryClient\nfrom repository.mlrepositoryartifact import MLRepositoryArtifact\nfrom repository.mlrepository import MetaProps, MetaNames"
        }, 
        {
            "metadata": {
                "collapsed": true
            }, 
            "outputs": [], 
            "cell_type": "code", 
            "execution_count": 56, 
            "source": "service_path = 'https://ibm-watson-ml.mybluemix.net'\nusername = '00f899d9-d6b6-44d0-8238-4fcf307530a3'\npassword = '48696bd9-46dd-43f6-ada7-8bc2ade5d267'\ninstance_id = '2ba947e1-ee85-46b1-9986-e3412ff51fda'"
        }, 
        {
            "metadata": {
                "collapsed": true
            }, 
            "outputs": [], 
            "cell_type": "code", 
            "execution_count": 57, 
            "source": "ml_repository_client = MLRepositoryClient(service_path)\nml_repository_client.authorize(username, password)"
        }, 
        {
            "metadata": {
                "collapsed": true
            }, 
            "outputs": [], 
            "cell_type": "code", 
            "execution_count": 58, 
            "source": "props = MetaProps({MetaNames.AUTHOR_NAME:\"Rich Tarro\", MetaNames.AUTHOR_EMAIL:\"rtarro@us.ibm.com\"})"
        }, 
        {
            "metadata": {}, 
            "outputs": [], 
            "cell_type": "code", 
            "execution_count": 76, 
            "source": "model_artifact = MLRepositoryArtifact(lreg, name=\"World Traveler\", meta_props=props)"
        }, 
        {
            "metadata": {
                "collapsed": true
            }, 
            "cell_type": "markdown", 
            "source": "# Save the pipeline and model"
        }, 
        {
            "metadata": {
                "collapsed": true
            }, 
            "outputs": [], 
            "cell_type": "code", 
            "execution_count": 77, 
            "source": "saved_model = ml_repository_client.models.save(model_artifact)"
        }, 
        {
            "metadata": {}, 
            "outputs": [
                {
                    "metadata": {}, 
                    "output_type": "execute_result", 
                    "execution_count": 78, 
                    "data": {
                        "text/plain": "dict_keys(['lastUpdated', 'version', 'authorEmail', 'trainingDataRef', 'runtime', 'pipelineVersionHref', 'modelVersionHref', 'creationTime', 'modelType', 'authorName'])"
                    }
                }
            ], 
            "cell_type": "code", 
            "execution_count": 78, 
            "source": "saved_model.meta.available_props()"
        }, 
        {
            "metadata": {}, 
            "outputs": [
                {
                    "output_type": "stream", 
                    "text": "modelType: scikit-model-0.18.2\nruntime: python-3.5\ncreationTime: 2017-08-07 23:40:24.795000+00:00\nmodelVersionHref: https://ibm-watson-ml.mybluemix.net/v2/artifacts/models/d3eac684-3797-4c55-871a-531b88b35c3b/versions/d65cfd6e-1d5b-4605-8f4f-b5972533811d\n", 
                    "name": "stdout"
                }
            ], 
            "cell_type": "code", 
            "execution_count": 79, 
            "source": "print(\"modelType: \" + saved_model.meta.prop(\"modelType\"))\nprint(\"runtime: \" + saved_model.meta.prop(\"runtime\"))\nprint(\"creationTime: \" + str(saved_model.meta.prop(\"creationTime\")))\nprint(\"modelVersionHref: \" + saved_model.meta.prop(\"modelVersionHref\"))"
        }, 
        {
            "metadata": {}, 
            "cell_type": "markdown", 
            "source": "# Load the model"
        }, 
        {
            "metadata": {
                "collapsed": true
            }, 
            "outputs": [], 
            "cell_type": "code", 
            "execution_count": 80, 
            "source": "loadedModelArtifact = ml_repository_client.models.get(saved_model.uid)"
        }, 
        {
            "metadata": {}, 
            "outputs": [
                {
                    "output_type": "stream", 
                    "text": "World Traveler\nd3eac684-3797-4c55-871a-531b88b35c3b\n", 
                    "name": "stdout"
                }
            ], 
            "cell_type": "code", 
            "execution_count": 81, 
            "source": "print(loadedModelArtifact.name)\nprint(saved_model.uid)"
        }, 
        {
            "metadata": {}, 
            "cell_type": "markdown", 
            "source": "# Predict locally\n## Make local prediction using previously loaded model and score data"
        }, 
        {
            "metadata": {}, 
            "outputs": [], 
            "cell_type": "code", 
            "execution_count": 82, 
            "source": "predictions = loadedModelArtifact.model_instance().predict(X_test)"
        }, 
        {
            "metadata": {
                "collapsed": true
            }, 
            "outputs": [], 
            "cell_type": "code", 
            "execution_count": 83, 
            "source": "import urllib3, requests, json\n\nheaders = urllib3.util.make_headers(basic_auth='{}:{}'.format(username, password))\nurl = '{}/v3/identity/token'.format(service_path)\nresponse = requests.get(url, headers=headers)\nmltoken = json.loads(response.text).get('token')"
        }, 
        {
            "metadata": {}, 
            "cell_type": "markdown", 
            "source": "# Create the model deployment"
        }, 
        {
            "metadata": {}, 
            "outputs": [
                {
                    "output_type": "stream", 
                    "text": "<Response [200]>\n{\"metadata\":{\"guid\":\"2ba947e1-ee85-46b1-9986-e3412ff51fda\",\"url\":\"https://ibm-watson-ml.mybluemix.net/v3/wml_instances/2ba947e1-ee85-46b1-9986-e3412ff51fda\",\"created_at\":\"2017-08-07T22:33:24.701Z\",\"modified_at\":\"2017-08-07T23:40:24.931Z\"},\"entity\":{\"source\":\"Bluemix\",\"published_models\":{\"url\":\"https://ibm-watson-ml.mybluemix.net/v3/wml_instances/2ba947e1-ee85-46b1-9986-e3412ff51fda/published_models\"},\"usage\":{\"expiration_date\":\"2017-09-01T00:00:00.000Z\",\"computation_time\":{\"limit\":18000,\"current\":0},\"model_count\":{\"limit\":200,\"current\":3},\"prediction_count\":{\"limit\":5000,\"current\":4},\"deployment_count\":{\"limit\":5,\"current\":2}},\"plan_id\":\"3f6acf43-ede8-413a-ac69-f8af3bb0cbfe\",\"status\":\"Active\",\"organization_guid\":\"697f2e6c-7a7e-44c8-a966-a1a233e348e4\",\"region\":\"us-south\",\"account\":{\"id\":\"500154483\",\"name\":\"Richard Tarro's Account\",\"type\":\"TRIAL\"},\"owner\":{\"ibm_id\":\"120000HW34\",\"email\":\"rtarro@us.ibm.com\",\"user_id\":\"b5ad5690-c139-459e-84e4-a8a76b25abf9\",\"country_code\":\"USA\",\"beta_user\":true},\"deployments\":{\"url\":\"https://ibm-watson-ml.mybluemix.net/v3/wml_instances/2ba947e1-ee85-46b1-9986-e3412ff51fda/deployments\"},\"space_guid\":\"888b042b-72ea-47ff-b9ab-a5f39cf201a0\",\"plan\":\"free\"}}\n", 
                    "name": "stdout"
                }
            ], 
            "cell_type": "code", 
            "execution_count": 84, 
            "source": "# Get instance details\nendpoint_instance = service_path + \"/v3/wml_instances/\" + instance_id\nheader = {'Content-Type': 'application/json', 'Authorization': mltoken}\n\nresponse_get_instance = requests.get(endpoint_instance, headers=header)\nprint(response_get_instance)\nprint(response_get_instance.text)"
        }, 
        {
            "metadata": {}, 
            "outputs": [
                {
                    "output_type": "stream", 
                    "text": "https://ibm-watson-ml.mybluemix.net/v3/wml_instances/2ba947e1-ee85-46b1-9986-e3412ff51fda/published_models\n", 
                    "name": "stdout"
                }
            ], 
            "cell_type": "code", 
            "execution_count": 85, 
            "source": "endpoint_published_models = json.loads(response_get_instance.text).get('entity').get('published_models').get('url')\n\nprint(endpoint_published_models)"
        }, 
        {
            "metadata": {}, 
            "outputs": [
                {
                    "output_type": "stream", 
                    "text": "<Response [200]>\n{\"count\":3,\"resources\":[{\"metadata\":{\"guid\":\"2aebc6f9-2256-43bf-ab57-605547de4b24\",\"url\":\"https://ibm-watson-ml.mybluemix.net/v3/wml_instances/2ba947e1-ee85-46b1-9986-e3412ff51fda/published_models/2aebc6f9-2256-43bf-ab57-605547de4b24\",\"created_at\":\"2017-08-07T22:39:03.989Z\",\"modified_at\":\"2017-08-07T22:40:00.256Z\"},\"entity\":{\"runtime_environment\":\"python-3.5\",\"author\":{\"name\":\"IBM\",\"email\":\"ibm@ibm.com\"},\"name\":\"Hand-written digits recognition\",\"latest_version\":{\"url\":\"https://ibm-watson-ml.mybluemix.net/v2/artifacts/models/2aebc6f9-2256-43bf-ab57-605547de4b24/versions/ff1d8691-e613-4ae0-966a-72f00a1f0daa\",\"guid\":\"ff1d8691-e613-4ae0-966a-72f00a1f0daa\",\"created_at\":\"2017-08-07T22:39:04.103Z\"},\"model_type\":\"scikit-model-0.17.1\",\"deployments\":{\"count\":1,\"url\":\"https://ibm-watson-ml.mybluemix.net/v3/wml_instances/2ba947e1-ee85-46b1-9986-e3412ff51fda/published_models/2aebc6f9-2256-43bf-ab57-605547de4b24/deployments\"},\"deployed_version\":{\"url\":\"https://ibm-watson-ml.mybluemix.net/v2/artifacts/models/2aebc6f9-2256-43bf-ab57-605547de4b24/versions/ff1d8691-e613-4ae0-966a-72f00a1f0daa\",\"guid\":\"ff1d8691-e613-4ae0-966a-72f00a1f0daa\",\"created_at\":\"2017-08-07T22:39:04.103Z\"}}},{\"metadata\":{\"guid\":\"9a09bf91-4de5-466b-b842-bd97a07aa426\",\"url\":\"https://ibm-watson-ml.mybluemix.net/v3/wml_instances/2ba947e1-ee85-46b1-9986-e3412ff51fda/published_models/9a09bf91-4de5-466b-b842-bd97a07aa426\",\"created_at\":\"2017-08-07T22:35:19.561Z\",\"modified_at\":\"2017-08-07T22:37:14.775Z\"},\"entity\":{\"runtime_environment\":\"python-3.5\",\"author\":{\"name\":\"IBM\",\"email\":\"ibm@ibm.com\"},\"name\":\"Hand-written digits recognition\",\"latest_version\":{\"url\":\"https://ibm-watson-ml.mybluemix.net/v2/artifacts/models/9a09bf91-4de5-466b-b842-bd97a07aa426/versions/5e8ba6e2-265c-46ff-afb5-b626c2003beb\",\"guid\":\"5e8ba6e2-265c-46ff-afb5-b626c2003beb\",\"created_at\":\"2017-08-07T22:35:19.668Z\"},\"model_type\":\"scikit-model-0.17.1\",\"deployments\":{\"count\":1,\"url\":\"https://ibm-watson-ml.mybluemix.net/v3/wml_instances/2ba947e1-ee85-46b1-9986-e3412ff51fda/published_models/9a09bf91-4de5-466b-b842-bd97a07aa426/deployments\"},\"deployed_version\":{\"url\":\"https://ibm-watson-ml.mybluemix.net/v2/artifacts/models/9a09bf91-4de5-466b-b842-bd97a07aa426/versions/5e8ba6e2-265c-46ff-afb5-b626c2003beb\",\"guid\":\"5e8ba6e2-265c-46ff-afb5-b626c2003beb\",\"created_at\":\"2017-08-07T22:35:19.668Z\"}}},{\"metadata\":{\"guid\":\"d3eac684-3797-4c55-871a-531b88b35c3b\",\"url\":\"https://ibm-watson-ml.mybluemix.net/v3/wml_instances/2ba947e1-ee85-46b1-9986-e3412ff51fda/published_models/d3eac684-3797-4c55-871a-531b88b35c3b\",\"created_at\":\"2017-08-07T23:40:24.795Z\",\"modified_at\":\"2017-08-07T23:40:24.897Z\"},\"entity\":{\"runtime_environment\":\"python-3.5\",\"author\":{\"name\":\"Rich Tarro\",\"email\":\"rtarro@us.ibm.com\"},\"name\":\"World Traveler\",\"latest_version\":{\"url\":\"https://ibm-watson-ml.mybluemix.net/v2/artifacts/models/d3eac684-3797-4c55-871a-531b88b35c3b/versions/d65cfd6e-1d5b-4605-8f4f-b5972533811d\",\"guid\":\"d65cfd6e-1d5b-4605-8f4f-b5972533811d\",\"created_at\":\"2017-08-07T23:40:24.897Z\"},\"model_type\":\"scikit-model-0.18.2\",\"deployments\":{\"count\":0,\"url\":\"https://ibm-watson-ml.mybluemix.net/v3/wml_instances/2ba947e1-ee85-46b1-9986-e3412ff51fda/published_models/d3eac684-3797-4c55-871a-531b88b35c3b/deployments\"}}}]}\n", 
                    "name": "stdout"
                }
            ], 
            "cell_type": "code", 
            "execution_count": 86, 
            "source": "# Get the list of published models\nheader = {'Content-Type': 'application/json', 'Authorization': mltoken}\nresponse_get = requests.get(endpoint_published_models, headers=header)\n\nprint(response_get)\nprint(response_get.text)"
        }, 
        {
            "metadata": {}, 
            "outputs": [
                {
                    "output_type": "stream", 
                    "text": "https://ibm-watson-ml.mybluemix.net/v3/wml_instances/2ba947e1-ee85-46b1-9986-e3412ff51fda/published_models/d3eac684-3797-4c55-871a-531b88b35c3b/deployments\n", 
                    "name": "stdout"
                }
            ], 
            "cell_type": "code", 
            "execution_count": 87, 
            "source": "# Get the published model deployment URL\n[endpoint_deployments] = [x.get('entity').get('deployments').get('url') for x in json.loads(response_get.text).get('resources') if x.get('metadata').get('guid') == saved_model.uid]\n\nprint(endpoint_deployments)"
        }, 
        {
            "metadata": {}, 
            "outputs": [
                {
                    "output_type": "stream", 
                    "text": "<Response [502]>\n{\n  \"code\": \"WML_OS_0033\",\n  \"message\": \"Python runtime error\",\n  \"description\": \"Flask error, http status 400 Bad Request, {\\\"status\\\":\\\"failed\\\",\\\"message\\\":\\\"Unable to load model: module 'sklearn.externals.joblib.numpy_pickle' has no attribute 'NumpyArrayWrapper'\\\"}\",\n  \"moreInfo\": \"\"\n}\n", 
                    "name": "stdout"
                }
            ], 
            "cell_type": "code", 
            "execution_count": 89, 
            "source": "# Create an online deployment for the published model\npayload_online = {\"name\": \"World Traveler\", \"description\": \"Hand Written Digits Deployment\", \"type\": \"online\"}\nresponse_online = requests.post(endpoint_deployments, json=payload_online, headers=header)\n\nprint(response_online)\nprint(response_online.text)"
        }, 
        {
            "metadata": {}, 
            "outputs": [
                {
                    "output_type": "error", 
                    "traceback": [
                        "\u001b[1;31m\u001b[0m", 
                        "\u001b[1;31mAttributeError\u001b[0mTraceback (most recent call last)", 
                        "\u001b[1;32m<ipython-input-75-e283aa91c8b9>\u001b[0m in \u001b[0;36m<module>\u001b[1;34m()\u001b[0m\n\u001b[1;32m----> 1\u001b[1;33m \u001b[0mscoring_url\u001b[0m \u001b[1;33m=\u001b[0m \u001b[0mjson\u001b[0m\u001b[1;33m.\u001b[0m\u001b[0mloads\u001b[0m\u001b[1;33m(\u001b[0m\u001b[0mresponse_online\u001b[0m\u001b[1;33m.\u001b[0m\u001b[0mtext\u001b[0m\u001b[1;33m)\u001b[0m\u001b[1;33m.\u001b[0m\u001b[0mget\u001b[0m\u001b[1;33m(\u001b[0m\u001b[1;34m'entity'\u001b[0m\u001b[1;33m)\u001b[0m\u001b[1;33m.\u001b[0m\u001b[0mget\u001b[0m\u001b[1;33m(\u001b[0m\u001b[1;34m'scoring_url'\u001b[0m\u001b[1;33m)\u001b[0m\u001b[1;33m\u001b[0m\u001b[0m\n\u001b[0m\u001b[0;32m      2\u001b[0m \u001b[1;33m\u001b[0m\u001b[0m\n\u001b[0;32m      3\u001b[0m \u001b[0mprint\u001b[0m\u001b[1;33m(\u001b[0m\u001b[0mscoring_url\u001b[0m\u001b[1;33m)\u001b[0m\u001b[1;33m\u001b[0m\u001b[0m\n", 
                        "\u001b[1;31mAttributeError\u001b[0m: 'NoneType' object has no attribute 'get'"
                    ], 
                    "ename": "AttributeError", 
                    "evalue": "'NoneType' object has no attribute 'get'"
                }
            ], 
            "cell_type": "code", 
            "execution_count": 75, 
            "source": "scoring_url = json.loads(response_online.text).get('entity').get('scoring_url')\n\nprint(scoring_url)"
        }, 
        {
            "metadata": {
                "collapsed": true
            }, 
            "outputs": [], 
            "cell_type": "code", 
            "execution_count": null, 
            "source": ""
        }
    ], 
    "nbformat_minor": 1
}